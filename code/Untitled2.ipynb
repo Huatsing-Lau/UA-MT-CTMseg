{
 "cells": [
  {
   "cell_type": "code",
   "execution_count": 1,
   "metadata": {},
   "outputs": [],
   "source": [
    "import SimpleITK as sitk\n",
    "import numpy as np\n",
    "import os\n",
    "def resample_image_sitk(image_sitk, label_sitk=None, newspacing=None, out_size=None): \n",
    "    resample = sitk.ResampleImageFilter()\n",
    "    resample.SetOutputDirection(image_sitk.GetDirection())\n",
    "    resample.SetOutputOrigin(image_sitk.GetOrigin())\n",
    "    resample.SetOutputSpacing(newspacing)\n",
    "    \n",
    "    if not out_size:\n",
    "        out_size = np.round(np.array(image_sitk.GetSize())*np.abs(image_sitk.GetSpacing())/np.array(newspacing)).astype('int').tolist()\n",
    "\n",
    "    resample.SetSize(out_size)\n",
    "    # resample.SetDefaultPixelValue(0)\n",
    "    \n",
    "    resample.SetInterpolator(sitk.sitkLinear)\n",
    "    out_image = resample.Execute(image_sitk)\n",
    "    out_image = sitk.GetArrayFromImage(out_image).transpose((2,1,0)).astype(dtype=float)\n",
    "    if label_sitk is None:\n",
    "        return out_image,None\n",
    "    else:\n",
    "        resample.SetInterpolator(sitk.sitkNearestNeighbor)\n",
    "        out_label = resample.Execute(label_sitk)\n",
    "        out_label = sitk.GetArrayFromImage(out_label).transpose((2,1,0,3)).astype(dtype=float)\n",
    "        return out_image, out_label"
   ]
  },
  {
   "cell_type": "code",
   "execution_count": 2,
   "metadata": {},
   "outputs": [],
   "source": [
    "path='../data/CTM_dataset/Segmented/1018366'\n",
    "image_sitk = sitk.ReadImage(os.path.join(path,'image.nii.gz'))\n",
    "label_onehot_sitk = sitk.ReadImage(os.path.join(path,'label_onehot.nii.gz'))\n",
    "newspacing = (np.array([0.3,0.3,3.0])*1.2).tolist()\n",
    "out_image, out_label = resample_image_sitk(image_sitk, label_onehot_sitk, newspacing)"
   ]
  },
  {
   "cell_type": "code",
   "execution_count": 3,
   "metadata": {},
   "outputs": [
    {
     "data": {
      "text/plain": [
       "(148, 190, 66)"
      ]
     },
     "execution_count": 3,
     "metadata": {},
     "output_type": "execute_result"
    }
   ],
   "source": [
    "out_image.shape"
   ]
  },
  {
   "cell_type": "code",
   "execution_count": 4,
   "metadata": {},
   "outputs": [
    {
     "data": {
      "text/plain": [
       "(148, 190, 66, 3)"
      ]
     },
     "execution_count": 4,
     "metadata": {},
     "output_type": "execute_result"
    }
   ],
   "source": [
    "out_label.shape"
   ]
  },
  {
   "cell_type": "code",
   "execution_count": 5,
   "metadata": {},
   "outputs": [
    {
     "data": {
      "text/plain": [
       "(178, 228, 79)"
      ]
     },
     "execution_count": 5,
     "metadata": {},
     "output_type": "execute_result"
    }
   ],
   "source": [
    "image_sitk.GetSize()"
   ]
  },
  {
   "cell_type": "code",
   "execution_count": 6,
   "metadata": {},
   "outputs": [
    {
     "data": {
      "text/plain": [
       "(178, 228, 79)"
      ]
     },
     "execution_count": 6,
     "metadata": {},
     "output_type": "execute_result"
    }
   ],
   "source": [
    "label_onehot_sitk.GetSize()"
   ]
  }
 ],
 "metadata": {
  "kernelspec": {
   "display_name": "Python 3",
   "language": "python",
   "name": "python3"
  },
  "language_info": {
   "codemirror_mode": {
    "name": "ipython",
    "version": 3
   },
   "file_extension": ".py",
   "mimetype": "text/x-python",
   "name": "python",
   "nbconvert_exporter": "python",
   "pygments_lexer": "ipython3",
   "version": "3.8.5"
  }
 },
 "nbformat": 4,
 "nbformat_minor": 4
}
