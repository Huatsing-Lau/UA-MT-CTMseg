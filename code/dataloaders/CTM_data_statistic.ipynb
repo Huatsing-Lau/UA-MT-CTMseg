{
 "cells": [
  {
   "cell_type": "code",
   "execution_count": 2,
   "metadata": {},
   "outputs": [
    {
     "data": {
      "text/plain": [
       "['Abs',\n",
       " 'AbsImageFilter',\n",
       " 'AbsoluteValueDifference',\n",
       " 'AbsoluteValueDifferenceImageFilter',\n",
       " 'Acos',\n",
       " 'AcosImageFilter',\n",
       " 'AdaptiveHistogramEqualization',\n",
       " 'AdaptiveHistogramEqualizationImageFilter',\n",
       " 'Add',\n",
       " 'AddImageFilter',\n",
       " 'AdditiveGaussianNoise',\n",
       " 'AdditiveGaussianNoiseImageFilter',\n",
       " 'AffineTransform',\n",
       " 'AggregateLabelMap',\n",
       " 'AggregateLabelMapFilter',\n",
       " 'And',\n",
       " 'AndImageFilter',\n",
       " 'AntiAliasBinary',\n",
       " 'AntiAliasBinaryImageFilter',\n",
       " 'ApproximateSignedDistanceMap',\n",
       " 'ApproximateSignedDistanceMapImageFilter',\n",
       " 'Asin',\n",
       " 'AsinImageFilter',\n",
       " 'Atan',\n",
       " 'Atan2',\n",
       " 'Atan2ImageFilter',\n",
       " 'AtanImageFilter',\n",
       " 'BSplineDecomposition',\n",
       " 'BSplineDecompositionImageFilter',\n",
       " 'BSplineTransform',\n",
       " 'BSplineTransformInitializer',\n",
       " 'BSplineTransformInitializerFilter',\n",
       " 'Bilateral',\n",
       " 'BilateralImageFilter',\n",
       " 'BinShrink',\n",
       " 'BinShrinkImageFilter',\n",
       " 'BinaryClosingByReconstruction',\n",
       " 'BinaryClosingByReconstructionImageFilter',\n",
       " 'BinaryContour',\n",
       " 'BinaryContourImageFilter',\n",
       " 'BinaryDilate',\n",
       " 'BinaryDilateImageFilter',\n",
       " 'BinaryErode',\n",
       " 'BinaryErodeImageFilter',\n",
       " 'BinaryFillhole',\n",
       " 'BinaryFillholeImageFilter',\n",
       " 'BinaryGrindPeak',\n",
       " 'BinaryGrindPeakImageFilter',\n",
       " 'BinaryImageToLabelMap',\n",
       " 'BinaryImageToLabelMapFilter',\n",
       " 'BinaryMagnitude',\n",
       " 'BinaryMagnitudeImageFilter',\n",
       " 'BinaryMedian',\n",
       " 'BinaryMedianImageFilter',\n",
       " 'BinaryMinMaxCurvatureFlow',\n",
       " 'BinaryMinMaxCurvatureFlowImageFilter',\n",
       " 'BinaryMorphologicalClosing',\n",
       " 'BinaryMorphologicalClosingImageFilter',\n",
       " 'BinaryMorphologicalOpening',\n",
       " 'BinaryMorphologicalOpeningImageFilter',\n",
       " 'BinaryNot',\n",
       " 'BinaryNotImageFilter',\n",
       " 'BinaryOpeningByReconstruction',\n",
       " 'BinaryOpeningByReconstructionImageFilter',\n",
       " 'BinaryProjection',\n",
       " 'BinaryProjectionImageFilter',\n",
       " 'BinaryPruning',\n",
       " 'BinaryPruningImageFilter',\n",
       " 'BinaryReconstructionByDilation',\n",
       " 'BinaryReconstructionByDilationImageFilter',\n",
       " 'BinaryReconstructionByErosion',\n",
       " 'BinaryReconstructionByErosionImageFilter',\n",
       " 'BinaryThinning',\n",
       " 'BinaryThinningImageFilter',\n",
       " 'BinaryThreshold',\n",
       " 'BinaryThresholdImageFilter',\n",
       " 'BinaryThresholdProjection',\n",
       " 'BinaryThresholdProjectionImageFilter',\n",
       " 'BinomialBlur',\n",
       " 'BinomialBlurImageFilter',\n",
       " 'BitwiseNot',\n",
       " 'BitwiseNotImageFilter',\n",
       " 'BlackTopHat',\n",
       " 'BlackTopHatImageFilter',\n",
       " 'BoundedReciprocal',\n",
       " 'BoundedReciprocalImageFilter',\n",
       " 'BoxMean',\n",
       " 'BoxMeanImageFilter',\n",
       " 'BoxSigma',\n",
       " 'BoxSigmaImageFilter',\n",
       " 'CannyEdgeDetection',\n",
       " 'CannyEdgeDetectionImageFilter',\n",
       " 'CannySegmentationLevelSet',\n",
       " 'CannySegmentationLevelSetImageFilter',\n",
       " 'Cast',\n",
       " 'CastImageFilter',\n",
       " 'CenteredTransformInitializer',\n",
       " 'CenteredTransformInitializerFilter',\n",
       " 'CenteredVersorTransformInitializer',\n",
       " 'CenteredVersorTransformInitializerFilter',\n",
       " 'ChangeLabel',\n",
       " 'ChangeLabelImageFilter',\n",
       " 'ChangeLabelLabelMap',\n",
       " 'ChangeLabelLabelMapFilter',\n",
       " 'CheckerBoard',\n",
       " 'CheckerBoardImageFilter',\n",
       " 'Clamp',\n",
       " 'ClampImageFilter',\n",
       " 'ClosingByReconstruction',\n",
       " 'ClosingByReconstructionImageFilter',\n",
       " 'CollidingFronts',\n",
       " 'CollidingFrontsImageFilter',\n",
       " 'Command',\n",
       " 'ComplexToImaginary',\n",
       " 'ComplexToImaginaryImageFilter',\n",
       " 'ComplexToModulus',\n",
       " 'ComplexToModulusImageFilter',\n",
       " 'ComplexToPhase',\n",
       " 'ComplexToPhaseImageFilter',\n",
       " 'ComplexToReal',\n",
       " 'ComplexToRealImageFilter',\n",
       " 'Compose',\n",
       " 'ComposeImageFilter',\n",
       " 'CompositeTransform',\n",
       " 'ConfidenceConnected',\n",
       " 'ConfidenceConnectedImageFilter',\n",
       " 'ConnectedComponent',\n",
       " 'ConnectedComponentImageFilter',\n",
       " 'ConnectedThreshold',\n",
       " 'ConnectedThresholdImageFilter',\n",
       " 'ConstantPad',\n",
       " 'ConstantPadImageFilter',\n",
       " 'Convolution',\n",
       " 'ConvolutionImageFilter',\n",
       " 'Cos',\n",
       " 'CosImageFilter',\n",
       " 'Crop',\n",
       " 'CropImageFilter',\n",
       " 'CurvatureAnisotropicDiffusion',\n",
       " 'CurvatureAnisotropicDiffusionImageFilter',\n",
       " 'CurvatureFlow',\n",
       " 'CurvatureFlowImageFilter',\n",
       " 'CyclicShift',\n",
       " 'CyclicShiftImageFilter',\n",
       " 'DICOMOrient',\n",
       " 'DICOMOrientImageFilter',\n",
       " 'DICOMOrientImageFilter_GetDirectionCosinesFromOrientation',\n",
       " 'DICOMOrientImageFilter_GetOrientationFromDirectionCosines',\n",
       " 'DanielssonDistanceMap',\n",
       " 'DanielssonDistanceMapImageFilter',\n",
       " 'DemonsRegistrationFilter',\n",
       " 'Derivative',\n",
       " 'DerivativeImageFilter',\n",
       " 'DiffeomorphicDemonsRegistrationFilter',\n",
       " 'DilateObjectMorphology',\n",
       " 'DilateObjectMorphologyImageFilter',\n",
       " 'DiscreteGaussian',\n",
       " 'DiscreteGaussianDerivative',\n",
       " 'DiscreteGaussianDerivativeImageFilter',\n",
       " 'DiscreteGaussianImageFilter',\n",
       " 'DisplacementFieldJacobianDeterminant',\n",
       " 'DisplacementFieldJacobianDeterminantFilter',\n",
       " 'DisplacementFieldTransform',\n",
       " 'Divide',\n",
       " 'DivideFloor',\n",
       " 'DivideFloorImageFilter',\n",
       " 'DivideImageFilter',\n",
       " 'DivideReal',\n",
       " 'DivideRealImageFilter',\n",
       " 'DoubleDoubleMap',\n",
       " 'DoubleThreshold',\n",
       " 'DoubleThresholdImageFilter',\n",
       " 'EdgePotential',\n",
       " 'EdgePotentialImageFilter',\n",
       " 'Equal',\n",
       " 'EqualImageFilter',\n",
       " 'ErodeObjectMorphology',\n",
       " 'ErodeObjectMorphologyImageFilter',\n",
       " 'Euler2DTransform',\n",
       " 'Euler3DTransform',\n",
       " 'Exp',\n",
       " 'ExpImageFilter',\n",
       " 'ExpNegative',\n",
       " 'ExpNegativeImageFilter',\n",
       " 'Expand',\n",
       " 'ExpandImageFilter',\n",
       " 'Extract',\n",
       " 'ExtractImageFilter',\n",
       " 'FFTConvolution',\n",
       " 'FFTConvolutionImageFilter',\n",
       " 'FFTNormalizedCorrelation',\n",
       " 'FFTNormalizedCorrelationImageFilter',\n",
       " 'FFTPad',\n",
       " 'FFTPadImageFilter',\n",
       " 'FFTShift',\n",
       " 'FFTShiftImageFilter',\n",
       " 'FastApproximateRank',\n",
       " 'FastApproximateRankImageFilter',\n",
       " 'FastMarching',\n",
       " 'FastMarchingBase',\n",
       " 'FastMarchingBaseImageFilter',\n",
       " 'FastMarchingImageFilter',\n",
       " 'FastMarchingUpwindGradient',\n",
       " 'FastMarchingUpwindGradientImageFilter',\n",
       " 'FastSymmetricForcesDemonsRegistrationFilter',\n",
       " 'Flip',\n",
       " 'FlipImageFilter',\n",
       " 'ForwardFFT',\n",
       " 'ForwardFFTImageFilter',\n",
       " 'GaborImageSource',\n",
       " 'GaborSource',\n",
       " 'GaussianImageSource',\n",
       " 'GaussianSource',\n",
       " 'GeodesicActiveContourLevelSet',\n",
       " 'GeodesicActiveContourLevelSetImageFilter',\n",
       " 'GetArrayFromImage',\n",
       " 'GetArrayViewFromImage',\n",
       " 'GetImageFromArray',\n",
       " 'GetPixelIDValueAsString',\n",
       " 'GetPixelIDValueFromString',\n",
       " 'Gradient',\n",
       " 'GradientAnisotropicDiffusion',\n",
       " 'GradientAnisotropicDiffusionImageFilter',\n",
       " 'GradientImageFilter',\n",
       " 'GradientMagnitude',\n",
       " 'GradientMagnitudeImageFilter',\n",
       " 'GradientMagnitudeRecursiveGaussian',\n",
       " 'GradientMagnitudeRecursiveGaussianImageFilter',\n",
       " 'GradientRecursiveGaussian',\n",
       " 'GradientRecursiveGaussianImageFilter',\n",
       " 'GrayscaleConnectedClosing',\n",
       " 'GrayscaleConnectedClosingImageFilter',\n",
       " 'GrayscaleConnectedOpening',\n",
       " 'GrayscaleConnectedOpeningImageFilter',\n",
       " 'GrayscaleDilate',\n",
       " 'GrayscaleDilateImageFilter',\n",
       " 'GrayscaleErode',\n",
       " 'GrayscaleErodeImageFilter',\n",
       " 'GrayscaleFillhole',\n",
       " 'GrayscaleFillholeImageFilter',\n",
       " 'GrayscaleGeodesicDilate',\n",
       " 'GrayscaleGeodesicDilateImageFilter',\n",
       " 'GrayscaleGeodesicErode',\n",
       " 'GrayscaleGeodesicErodeImageFilter',\n",
       " 'GrayscaleGrindPeak',\n",
       " 'GrayscaleGrindPeakImageFilter',\n",
       " 'GrayscaleMorphologicalClosing',\n",
       " 'GrayscaleMorphologicalClosingImageFilter',\n",
       " 'GrayscaleMorphologicalOpening',\n",
       " 'GrayscaleMorphologicalOpeningImageFilter',\n",
       " 'Greater',\n",
       " 'GreaterEqual',\n",
       " 'GreaterEqualImageFilter',\n",
       " 'GreaterImageFilter',\n",
       " 'GridImageSource',\n",
       " 'GridSource',\n",
       " 'HConcave',\n",
       " 'HConcaveImageFilter',\n",
       " 'HConvex',\n",
       " 'HConvexImageFilter',\n",
       " 'HMaxima',\n",
       " 'HMaximaImageFilter',\n",
       " 'HMinima',\n",
       " 'HMinimaImageFilter',\n",
       " 'HalfHermitianToRealInverseFFT',\n",
       " 'HalfHermitianToRealInverseFFTImageFilter',\n",
       " 'Hash',\n",
       " 'HashImageFilter',\n",
       " 'HausdorffDistanceImageFilter',\n",
       " 'HistogramMatching',\n",
       " 'HistogramMatchingImageFilter',\n",
       " 'HuangThreshold',\n",
       " 'HuangThresholdImageFilter',\n",
       " 'Image',\n",
       " 'ImageFileReader',\n",
       " 'ImageFileWriter',\n",
       " 'ImageFilter',\n",
       " 'ImageReaderBase',\n",
       " 'ImageReaderBase_GetImageIOFromFileName',\n",
       " 'ImageRegistrationMethod',\n",
       " 'ImageSeriesReader',\n",
       " 'ImageSeriesReader_GetGDCMSeriesFileNames',\n",
       " 'ImageSeriesReader_GetGDCMSeriesIDs',\n",
       " 'ImageSeriesWriter',\n",
       " 'ImageViewer',\n",
       " 'ImageViewer_GetGlobalDefaultApplication',\n",
       " 'ImageViewer_GetGlobalDefaultDebug',\n",
       " 'ImageViewer_GetGlobalDefaultExecutableNames',\n",
       " 'ImageViewer_GetGlobalDefaultFileExtension',\n",
       " 'ImageViewer_GetGlobalDefaultSearchPath',\n",
       " 'ImageViewer_GetProcessDelay',\n",
       " 'ImageViewer_SetGlobalDefaultApplication',\n",
       " 'ImageViewer_SetGlobalDefaultDebug',\n",
       " 'ImageViewer_SetGlobalDefaultDebugOff',\n",
       " 'ImageViewer_SetGlobalDefaultDebugOn',\n",
       " 'ImageViewer_SetGlobalDefaultExecutableNames',\n",
       " 'ImageViewer_SetGlobalDefaultFileExtension',\n",
       " 'ImageViewer_SetGlobalDefaultSearchPath',\n",
       " 'ImageViewer_SetProcessDelay',\n",
       " 'IntensityWindowing',\n",
       " 'IntensityWindowingImageFilter',\n",
       " 'IntermodesThreshold',\n",
       " 'IntermodesThresholdImageFilter',\n",
       " 'InverseDeconvolution',\n",
       " 'InverseDeconvolutionImageFilter',\n",
       " 'InverseDisplacementField',\n",
       " 'InverseDisplacementFieldImageFilter',\n",
       " 'InverseFFT',\n",
       " 'InverseFFTImageFilter',\n",
       " 'InvertDisplacementField',\n",
       " 'InvertDisplacementFieldImageFilter',\n",
       " 'InvertIntensity',\n",
       " 'InvertIntensityImageFilter',\n",
       " 'IsoContourDistance',\n",
       " 'IsoContourDistanceImageFilter',\n",
       " 'IsoDataThreshold',\n",
       " 'IsoDataThresholdImageFilter',\n",
       " 'IsolatedConnected',\n",
       " 'IsolatedConnectedImageFilter',\n",
       " 'IsolatedWatershed',\n",
       " 'IsolatedWatershedImageFilter',\n",
       " 'IterativeInverseDisplacementField',\n",
       " 'IterativeInverseDisplacementFieldImageFilter',\n",
       " 'JoinSeries',\n",
       " 'JoinSeriesImageFilter',\n",
       " 'KittlerIllingworthThreshold',\n",
       " 'KittlerIllingworthThresholdImageFilter',\n",
       " 'LabelContour',\n",
       " 'LabelContourImageFilter',\n",
       " 'LabelImageToLabelMap',\n",
       " 'LabelImageToLabelMapFilter',\n",
       " 'LabelIntensityStatisticsImageFilter',\n",
       " 'LabelMapContourOverlay',\n",
       " 'LabelMapContourOverlayImageFilter',\n",
       " 'LabelMapMask',\n",
       " 'LabelMapMaskImageFilter',\n",
       " 'LabelMapOverlay',\n",
       " 'LabelMapOverlayImageFilter',\n",
       " 'LabelMapToBinary',\n",
       " 'LabelMapToBinaryImageFilter',\n",
       " 'LabelMapToLabel',\n",
       " 'LabelMapToLabelImageFilter',\n",
       " 'LabelMapToRGB',\n",
       " 'LabelMapToRGBImageFilter',\n",
       " 'LabelOverlapMeasuresImageFilter',\n",
       " 'LabelOverlay',\n",
       " 'LabelOverlayImageFilter',\n",
       " 'LabelShapeStatisticsImageFilter',\n",
       " 'LabelStatisticsImageFilter',\n",
       " 'LabelToRGB',\n",
       " 'LabelToRGBImageFilter',\n",
       " 'LabelUniqueLabelMap',\n",
       " 'LabelUniqueLabelMapFilter',\n",
       " 'LabelVoting',\n",
       " 'LabelVotingImageFilter',\n",
       " 'LandmarkBasedTransformInitializer',\n",
       " 'LandmarkBasedTransformInitializerFilter',\n",
       " 'LandweberDeconvolution',\n",
       " 'LandweberDeconvolutionImageFilter',\n",
       " 'Laplacian',\n",
       " 'LaplacianImageFilter',\n",
       " 'LaplacianRecursiveGaussian',\n",
       " 'LaplacianRecursiveGaussianImageFilter',\n",
       " 'LaplacianSegmentationLevelSet',\n",
       " 'LaplacianSegmentationLevelSetImageFilter',\n",
       " 'LaplacianSharpening',\n",
       " 'LaplacianSharpeningImageFilter',\n",
       " 'Less',\n",
       " 'LessEqual',\n",
       " 'LessEqualImageFilter',\n",
       " 'LessImageFilter',\n",
       " 'LevelSetMotionRegistrationFilter',\n",
       " 'LiThreshold',\n",
       " 'LiThresholdImageFilter',\n",
       " 'Log',\n",
       " 'Log10',\n",
       " 'Log10ImageFilter',\n",
       " 'LogImageFilter',\n",
       " 'MagnitudeAndPhaseToComplex',\n",
       " 'MagnitudeAndPhaseToComplexImageFilter',\n",
       " 'Mask',\n",
       " 'MaskImageFilter',\n",
       " 'MaskNegated',\n",
       " 'MaskNegatedImageFilter',\n",
       " 'MaskedFFTNormalizedCorrelation',\n",
       " 'MaskedFFTNormalizedCorrelationImageFilter',\n",
       " 'Maximum',\n",
       " 'MaximumEntropyThreshold',\n",
       " 'MaximumEntropyThresholdImageFilter',\n",
       " 'MaximumImageFilter',\n",
       " 'MaximumProjection',\n",
       " 'MaximumProjectionImageFilter',\n",
       " 'Mean',\n",
       " 'MeanImageFilter',\n",
       " 'MeanProjection',\n",
       " 'MeanProjectionImageFilter',\n",
       " 'Median',\n",
       " 'MedianImageFilter',\n",
       " 'MedianProjection',\n",
       " 'MedianProjectionImageFilter',\n",
       " 'MergeLabelMap',\n",
       " 'MergeLabelMapFilter',\n",
       " 'MinMaxCurvatureFlow',\n",
       " 'MinMaxCurvatureFlowImageFilter',\n",
       " 'Minimum',\n",
       " 'MinimumImageFilter',\n",
       " 'MinimumMaximumImageFilter',\n",
       " 'MinimumProjection',\n",
       " 'MinimumProjectionImageFilter',\n",
       " 'MirrorPad',\n",
       " 'MirrorPadImageFilter',\n",
       " 'Modulus',\n",
       " 'ModulusImageFilter',\n",
       " 'MomentsThreshold',\n",
       " 'MomentsThresholdImageFilter',\n",
       " 'MorphologicalGradient',\n",
       " 'MorphologicalGradientImageFilter',\n",
       " 'MorphologicalWatershed',\n",
       " 'MorphologicalWatershedFromMarkers',\n",
       " 'MorphologicalWatershedFromMarkersImageFilter',\n",
       " 'MorphologicalWatershedImageFilter',\n",
       " 'MultiLabelSTAPLE',\n",
       " 'MultiLabelSTAPLEImageFilter',\n",
       " 'Multiply',\n",
       " 'MultiplyImageFilter',\n",
       " 'N4BiasFieldCorrection',\n",
       " 'N4BiasFieldCorrectionImageFilter',\n",
       " 'NaryAdd',\n",
       " 'NaryAddImageFilter',\n",
       " 'NaryMaximum',\n",
       " 'NaryMaximumImageFilter',\n",
       " 'NeighborhoodConnected',\n",
       " 'NeighborhoodConnectedImageFilter',\n",
       " 'Noise',\n",
       " 'NoiseImageFilter',\n",
       " 'Normalize',\n",
       " 'NormalizeImageFilter',\n",
       " 'NormalizeToConstant',\n",
       " 'NormalizeToConstantImageFilter',\n",
       " 'NormalizedCorrelation',\n",
       " 'NormalizedCorrelationImageFilter',\n",
       " 'Not',\n",
       " 'NotEqual',\n",
       " 'NotEqualImageFilter',\n",
       " 'NotImageFilter',\n",
       " 'ObjectnessMeasure',\n",
       " 'ObjectnessMeasureImageFilter',\n",
       " 'OpeningByReconstruction',\n",
       " 'OpeningByReconstructionImageFilter',\n",
       " 'Or',\n",
       " 'OrImageFilter',\n",
       " 'OtsuMultipleThresholds',\n",
       " 'OtsuMultipleThresholdsImageFilter',\n",
       " 'OtsuThreshold',\n",
       " 'OtsuThresholdImageFilter',\n",
       " 'Paste',\n",
       " 'PasteImageFilter',\n",
       " 'PatchBasedDenoising',\n",
       " 'PatchBasedDenoisingImageFilter',\n",
       " 'PermuteAxes',\n",
       " 'PermuteAxesImageFilter',\n",
       " 'PhysicalPointImageSource',\n",
       " 'PhysicalPointSource',\n",
       " 'Pow',\n",
       " 'PowImageFilter',\n",
       " 'ProcessObject',\n",
       " 'ProcessObject_GetGlobalDefaultCoordinateTolerance',\n",
       " 'ProcessObject_GetGlobalDefaultDebug',\n",
       " 'ProcessObject_GetGlobalDefaultDirectionTolerance',\n",
       " 'ProcessObject_GetGlobalDefaultNumberOfThreads',\n",
       " 'ProcessObject_GetGlobalDefaultThreader',\n",
       " 'ProcessObject_GetGlobalWarningDisplay',\n",
       " 'ProcessObject_GlobalDefaultDebugOff',\n",
       " 'ProcessObject_GlobalDefaultDebugOn',\n",
       " 'ProcessObject_GlobalWarningDisplayOff',\n",
       " 'ProcessObject_GlobalWarningDisplayOn',\n",
       " 'ProcessObject_SetGlobalDefaultCoordinateTolerance',\n",
       " 'ProcessObject_SetGlobalDefaultDebug',\n",
       " 'ProcessObject_SetGlobalDefaultDirectionTolerance',\n",
       " 'ProcessObject_SetGlobalDefaultNumberOfThreads',\n",
       " 'ProcessObject_SetGlobalDefaultThreader',\n",
       " 'ProcessObject_SetGlobalWarningDisplay',\n",
       " 'ProjectedLandweberDeconvolution',\n",
       " 'ProjectedLandweberDeconvolutionImageFilter',\n",
       " 'PyCommand',\n",
       " 'Rank',\n",
       " 'RankImageFilter',\n",
       " 'ReadImage',\n",
       " 'ReadTransform',\n",
       " 'RealAndImaginaryToComplex',\n",
       " 'RealAndImaginaryToComplexImageFilter',\n",
       " 'RealToHalfHermitianForwardFFT',\n",
       " 'RealToHalfHermitianForwardFFTImageFilter',\n",
       " 'ReconstructionByDilation',\n",
       " 'ReconstructionByDilationImageFilter',\n",
       " 'ReconstructionByErosion',\n",
       " 'ReconstructionByErosionImageFilter',\n",
       " 'RecursiveGaussian',\n",
       " 'RecursiveGaussianImageFilter',\n",
       " 'RegionOfInterest',\n",
       " 'RegionOfInterestImageFilter',\n",
       " 'RegionalMaxima',\n",
       " 'RegionalMaximaImageFilter',\n",
       " 'RegionalMinima',\n",
       " 'RegionalMinimaImageFilter',\n",
       " 'RelabelComponent',\n",
       " 'RelabelComponentImageFilter',\n",
       " 'RelabelLabelMap',\n",
       " 'RelabelLabelMapFilter',\n",
       " 'RenyiEntropyThreshold',\n",
       " 'RenyiEntropyThresholdImageFilter',\n",
       " 'Resample',\n",
       " 'ResampleImageFilter',\n",
       " 'RescaleIntensity',\n",
       " 'RescaleIntensityImageFilter',\n",
       " 'RichardsonLucyDeconvolution',\n",
       " 'RichardsonLucyDeconvolutionImageFilter',\n",
       " 'Round',\n",
       " 'RoundImageFilter',\n",
       " 'SITK_ITK_VERSION_MAJOR',\n",
       " 'SITK_ITK_VERSION_MINOR',\n",
       " 'SITK_ITK_VERSION_PATCH',\n",
       " 'SITK_MAX_DIMENSION',\n",
       " 'SLIC',\n",
       " 'SLICImageFilter',\n",
       " 'STAPLE',\n",
       " 'STAPLEImageFilter',\n",
       " 'SaltAndPepperNoise',\n",
       " 'SaltAndPepperNoiseImageFilter',\n",
       " 'ScalarChanAndVeseDenseLevelSet',\n",
       " 'ScalarChanAndVeseDenseLevelSetImageFilter',\n",
       " 'ScalarConnectedComponent',\n",
       " 'ScalarConnectedComponentImageFilter',\n",
       " 'ScalarImageKmeans',\n",
       " 'ScalarImageKmeansImageFilter',\n",
       " 'ScalarToRGBColormap',\n",
       " 'ScalarToRGBColormapImageFilter',\n",
       " 'ScaleSkewVersor3DTransform',\n",
       " 'ScaleTransform',\n",
       " 'ScaleVersor3DTransform',\n",
       " 'ShanbhagThreshold',\n",
       " 'ShanbhagThresholdImageFilter',\n",
       " 'ShapeDetectionLevelSet',\n",
       " 'ShapeDetectionLevelSetImageFilter',\n",
       " 'ShiftScale',\n",
       " 'ShiftScaleImageFilter',\n",
       " 'ShotNoise',\n",
       " 'ShotNoiseImageFilter',\n",
       " 'Show',\n",
       " 'Shrink',\n",
       " 'ShrinkImageFilter',\n",
       " 'Sigmoid',\n",
       " 'SigmoidImageFilter',\n",
       " 'SignedDanielssonDistanceMap',\n",
       " 'SignedDanielssonDistanceMapImageFilter',\n",
       " 'SignedMaurerDistanceMap',\n",
       " 'SignedMaurerDistanceMapImageFilter',\n",
       " 'Similarity2DTransform',\n",
       " 'Similarity3DTransform',\n",
       " 'SimilarityIndexImageFilter',\n",
       " 'SimpleContourExtractor',\n",
       " 'SimpleContourExtractorImageFilter',\n",
       " 'SimpleITK',\n",
       " 'Sin',\n",
       " 'SinImageFilter',\n",
       " 'Slice',\n",
       " 'SliceImageFilter',\n",
       " 'SmoothingRecursiveGaussian',\n",
       " 'SmoothingRecursiveGaussianImageFilter',\n",
       " 'SobelEdgeDetection',\n",
       " 'SobelEdgeDetectionImageFilter',\n",
       " 'SpeckleNoise',\n",
       " 'SpeckleNoiseImageFilter',\n",
       " 'Sqrt',\n",
       " 'SqrtImageFilter',\n",
       " 'Square',\n",
       " 'SquareImageFilter',\n",
       " 'SquaredDifference',\n",
       " 'SquaredDifferenceImageFilter',\n",
       " 'StandardDeviationProjection',\n",
       " 'StandardDeviationProjectionImageFilter',\n",
       " 'StatisticsImageFilter',\n",
       " 'StochasticFractalDimension',\n",
       " 'StochasticFractalDimensionImageFilter',\n",
       " 'Subtract',\n",
       " 'SubtractImageFilter',\n",
       " 'SumProjection',\n",
       " 'SumProjectionImageFilter',\n",
       " 'SwigPyIterator',\n",
       " 'SymmetricForcesDemonsRegistrationFilter',\n",
       " 'Tan',\n",
       " 'TanImageFilter',\n",
       " 'TernaryAdd',\n",
       " 'TernaryAddImageFilter',\n",
       " 'TernaryMagnitude',\n",
       " 'TernaryMagnitudeImageFilter',\n",
       " 'TernaryMagnitudeSquared',\n",
       " 'TernaryMagnitudeSquaredImageFilter',\n",
       " 'Threshold',\n",
       " 'ThresholdImageFilter',\n",
       " 'ThresholdMaximumConnectedComponents',\n",
       " 'ThresholdMaximumConnectedComponentsImageFilter',\n",
       " 'ThresholdSegmentationLevelSet',\n",
       " 'ThresholdSegmentationLevelSetImageFilter',\n",
       " 'TikhonovDeconvolution',\n",
       " 'TikhonovDeconvolutionImageFilter',\n",
       " 'Tile',\n",
       " 'TileImageFilter',\n",
       " 'Toboggan',\n",
       " 'TobogganImageFilter',\n",
       " 'Transform',\n",
       " 'TransformToDisplacementField',\n",
       " 'TransformToDisplacementFieldFilter',\n",
       " 'TranslationTransform',\n",
       " 'TriangleThreshold',\n",
       " 'TriangleThresholdImageFilter',\n",
       " 'UnaryMinus',\n",
       " 'UnaryMinusImageFilter',\n",
       " 'UnsharpMask',\n",
       " 'UnsharpMaskImageFilter',\n",
       " 'ValuedRegionalMaxima',\n",
       " 'ValuedRegionalMaximaImageFilter',\n",
       " 'ValuedRegionalMinima',\n",
       " 'ValuedRegionalMinimaImageFilter',\n",
       " 'VectorBool',\n",
       " 'VectorConfidenceConnected',\n",
       " 'VectorConfidenceConnectedImageFilter',\n",
       " 'VectorConnectedComponent',\n",
       " 'VectorConnectedComponentImageFilter',\n",
       " 'VectorDouble',\n",
       " 'VectorFloat',\n",
       " 'VectorIndexSelectionCast',\n",
       " 'VectorIndexSelectionCastImageFilter',\n",
       " 'VectorInt16',\n",
       " 'VectorInt32',\n",
       " 'VectorInt64',\n",
       " 'VectorInt8',\n",
       " 'VectorMagnitude',\n",
       " 'VectorMagnitudeImageFilter',\n",
       " 'VectorOfImage',\n",
       " 'VectorOfTransform',\n",
       " 'VectorString',\n",
       " 'VectorUInt16',\n",
       " 'VectorUInt32',\n",
       " 'VectorUInt64',\n",
       " 'VectorUInt8',\n",
       " 'VectorUIntList',\n",
       " 'Version',\n",
       " 'Version_BuildDate',\n",
       " 'Version_ExtendedVersionString',\n",
       " 'Version_ITKMajorVersion',\n",
       " 'Version_ITKMinorVersion',\n",
       " 'Version_ITKModulesEnabled',\n",
       " 'Version_ITKPatchVersion',\n",
       " 'Version_ITKVersionString',\n",
       " 'Version_MajorVersion',\n",
       " 'Version_MinorVersion',\n",
       " 'Version_PatchVersion',\n",
       " 'Version_TweakVersion',\n",
       " 'Version_VersionString',\n",
       " 'VersorRigid3DTransform',\n",
       " 'VersorTransform',\n",
       " 'VotingBinary',\n",
       " 'VotingBinaryHoleFilling',\n",
       " 'VotingBinaryHoleFillingImageFilter',\n",
       " 'VotingBinaryImageFilter',\n",
       " 'VotingBinaryIterativeHoleFilling',\n",
       " 'VotingBinaryIterativeHoleFillingImageFilter',\n",
       " 'Warp',\n",
       " 'WarpImageFilter',\n",
       " 'WhiteTopHat',\n",
       " 'WhiteTopHatImageFilter',\n",
       " 'WienerDeconvolution',\n",
       " 'WienerDeconvolutionImageFilter',\n",
       " 'WrapPad',\n",
       " 'WrapPadImageFilter',\n",
       " 'WriteImage',\n",
       " 'WriteTransform',\n",
       " 'Xor',\n",
       " 'XorImageFilter',\n",
       " 'YenThreshold',\n",
       " 'YenThresholdImageFilter',\n",
       " 'ZeroCrossing',\n",
       " 'ZeroCrossingBasedEdgeDetection',\n",
       " 'ZeroCrossingBasedEdgeDetectionImageFilter',\n",
       " 'ZeroCrossingImageFilter',\n",
       " 'ZeroFluxNeumannPad',\n",
       " 'ZeroFluxNeumannPadImageFilter',\n",
       " '_SimpleITK',\n",
       " '__builtins__',\n",
       " '__cached__',\n",
       " '__doc__',\n",
       " '__file__',\n",
       " '__loader__',\n",
       " '__name__',\n",
       " '__package__',\n",
       " '__path__',\n",
       " '__spec__',\n",
       " '__version__',\n",
       " '_version',\n",
       " 'cvar',\n",
       " 'extra',\n",
       " 'namedtuple',\n",
       " 'operator',\n",
       " 'sitkAbortEvent',\n",
       " 'sitkAffine',\n",
       " 'sitkAnnulus',\n",
       " 'sitkAnyEvent',\n",
       " 'sitkBSpline',\n",
       " 'sitkBSplineResampler',\n",
       " 'sitkBSplineResamplerOrder1',\n",
       " 'sitkBSplineResamplerOrder2',\n",
       " 'sitkBSplineResamplerOrder3',\n",
       " 'sitkBSplineResamplerOrder4',\n",
       " 'sitkBSplineResamplerOrder5',\n",
       " 'sitkBSplineTransform',\n",
       " 'sitkBall',\n",
       " 'sitkBlackmanWindowedSinc',\n",
       " 'sitkBox',\n",
       " 'sitkComplexFloat32',\n",
       " 'sitkComplexFloat64',\n",
       " 'sitkComposite',\n",
       " 'sitkCosineWindowedSinc',\n",
       " 'sitkCross',\n",
       " 'sitkDeleteEvent',\n",
       " 'sitkDisplacementField',\n",
       " 'sitkEndEvent',\n",
       " 'sitkEuler',\n",
       " 'sitkFloat32',\n",
       " 'sitkFloat64',\n",
       " 'sitkGaussian',\n",
       " 'sitkHammingWindowedSinc',\n",
       " 'sitkIdentity',\n",
       " 'sitkInt16',\n",
       " 'sitkInt32',\n",
       " 'sitkInt64',\n",
       " 'sitkInt8',\n",
       " 'sitkIterationEvent',\n",
       " 'sitkLabelGaussian',\n",
       " 'sitkLabelUInt16',\n",
       " 'sitkLabelUInt32',\n",
       " 'sitkLabelUInt64',\n",
       " 'sitkLabelUInt8',\n",
       " 'sitkLanczosWindowedSinc',\n",
       " 'sitkLinear',\n",
       " 'sitkMultiResolutionIterationEvent',\n",
       " 'sitkNearestNeighbor',\n",
       " 'sitkPolygon3',\n",
       " 'sitkPolygon4',\n",
       " 'sitkPolygon5',\n",
       " 'sitkPolygon6',\n",
       " 'sitkPolygon7',\n",
       " 'sitkPolygon8',\n",
       " 'sitkPolygon9',\n",
       " 'sitkProgressEvent',\n",
       " 'sitkQuaternionRigid',\n",
       " 'sitkScale',\n",
       " 'sitkScaleLogarithmic',\n",
       " 'sitkScaleSkewVersor',\n",
       " 'sitkScaleVersor',\n",
       " 'sitkSimilarity',\n",
       " 'sitkStartEvent',\n",
       " 'sitkTranslation',\n",
       " 'sitkUInt16',\n",
       " 'sitkUInt32',\n",
       " 'sitkUInt64',\n",
       " 'sitkUInt8',\n",
       " 'sitkUnknown',\n",
       " 'sitkUnknownTransform',\n",
       " 'sitkUserEvent',\n",
       " 'sitkVectorFloat32',\n",
       " 'sitkVectorFloat64',\n",
       " 'sitkVectorInt16',\n",
       " 'sitkVectorInt32',\n",
       " 'sitkVectorInt64',\n",
       " 'sitkVectorInt8',\n",
       " 'sitkVectorUInt16',\n",
       " 'sitkVectorUInt32',\n",
       " 'sitkVectorUInt64',\n",
       " 'sitkVectorUInt8',\n",
       " 'sitkVersor',\n",
       " 'sitkVersorRigid',\n",
       " 'sitkWallClock',\n",
       " 'sitkWelchWindowedSinc',\n",
       " 'sys',\n",
       " 'weakref']"
      ]
     },
     "execution_count": 2,
     "metadata": {},
     "output_type": "execute_result"
    }
   ],
   "source": [
    "import SimpleITK as sitk\n",
    "resample = sitk.ResampleImageFilter()\n",
    "# resample.SetInterpolator(sitk.sitkNearest)\n",
    "dir(sitk)"
   ]
  },
  {
   "cell_type": "code",
   "execution_count": null,
   "metadata": {},
   "outputs": [
    {
     "name": "stderr",
     "output_type": "stream",
     "text": [
      "\r",
      "  0%|          | 0/181 [00:00<?, ?it/s]"
     ]
    },
    {
     "name": "stdout",
     "output_type": "stream",
     "text": [
      "seg dataset:\n",
      "845929 :\n",
      "0 126 0\n",
      "[0, 126, 0]\n",
      "(799, 594, 92)\n"
     ]
    },
    {
     "name": "stderr",
     "output_type": "stream",
     "text": [
      "\r",
      "  1%|          | 1/181 [00:05<16:15,  5.42s/it]"
     ]
    },
    {
     "name": "stdout",
     "output_type": "stream",
     "text": [
      "1559027 :\n",
      "0 32 0\n",
      "[0, 32, 0]\n",
      "(492, 461, 73)\n"
     ]
    },
    {
     "name": "stderr",
     "output_type": "stream",
     "text": [
      "\r",
      "  1%|          | 2/181 [00:07<13:06,  4.39s/it]"
     ]
    },
    {
     "name": "stdout",
     "output_type": "stream",
     "text": [
      "1433611 :\n",
      "0 127 0\n",
      "[0, 127, 0]\n",
      "(799, 454, 65)\n"
     ]
    },
    {
     "name": "stderr",
     "output_type": "stream",
     "text": [
      "\r",
      "  2%|▏         | 3/181 [00:10<11:35,  3.91s/it]"
     ]
    },
    {
     "name": "stdout",
     "output_type": "stream",
     "text": [
      "B1027338 :\n",
      "0 15 0\n",
      "[0, 15, 0]\n",
      "(577, 559, 85)\n"
     ]
    },
    {
     "name": "stderr",
     "output_type": "stream",
     "text": [
      "\r",
      "  2%|▏         | 4/181 [00:13<10:54,  3.70s/it]"
     ]
    },
    {
     "name": "stdout",
     "output_type": "stream",
     "text": [
      "936932-dingzi :\n",
      "0 124 0\n",
      "[0, 124, 0]\n",
      "(799, 524, 85)\n"
     ]
    },
    {
     "name": "stderr",
     "output_type": "stream",
     "text": [
      "\r",
      "  3%|▎         | 5/181 [00:17<11:26,  3.90s/it]"
     ]
    },
    {
     "name": "stdout",
     "output_type": "stream",
     "text": [
      "1371504 :\n",
      "0 0 0\n",
      "[0, 0, 0]\n",
      "(633, 574, 85)\n"
     ]
    },
    {
     "name": "stderr",
     "output_type": "stream",
     "text": [
      "\r",
      "  3%|▎         | 6/181 [00:21<11:05,  3.80s/it]"
     ]
    },
    {
     "name": "stdout",
     "output_type": "stream",
     "text": [
      "785777 :\n",
      "0 6 0\n",
      "[0, 6, 0]\n",
      "(558, 520, 85)\n"
     ]
    },
    {
     "name": "stderr",
     "output_type": "stream",
     "text": [
      "\r",
      "  4%|▍         | 7/181 [00:24<10:14,  3.53s/it]"
     ]
    },
    {
     "name": "stdout",
     "output_type": "stream",
     "text": [
      "1632110 :\n",
      "2 5 0\n",
      "[2, 5, 0]\n",
      "(663, 636, 79)\n"
     ]
    },
    {
     "name": "stderr",
     "output_type": "stream",
     "text": [
      "\r",
      "  4%|▍         | 8/181 [00:28<10:28,  3.63s/it]"
     ]
    },
    {
     "name": "stdout",
     "output_type": "stream",
     "text": [
      "1673882 :\n",
      "0 48 0\n",
      "[0, 48, 0]\n",
      "(628, 502, 85)\n"
     ]
    },
    {
     "name": "stderr",
     "output_type": "stream",
     "text": [
      "\r",
      "  5%|▍         | 9/181 [00:31<10:02,  3.50s/it]"
     ]
    },
    {
     "name": "stdout",
     "output_type": "stream",
     "text": [
      "B759663 :\n",
      "0 157 0\n",
      "[0, 157, 0]\n",
      "(521, 352, 85)\n"
     ]
    },
    {
     "name": "stderr",
     "output_type": "stream",
     "text": [
      "\r",
      "  6%|▌         | 10/181 [00:33<08:38,  3.03s/it]"
     ]
    },
    {
     "name": "stdout",
     "output_type": "stream",
     "text": [
      "B1673882 :\n",
      "0 48 0\n",
      "[0, 48, 0]\n",
      "(628, 502, 85)\n"
     ]
    },
    {
     "name": "stderr",
     "output_type": "stream",
     "text": [
      "\r",
      "  6%|▌         | 11/181 [00:36<08:45,  3.09s/it]"
     ]
    },
    {
     "name": "stdout",
     "output_type": "stream",
     "text": [
      "B604203 :\n",
      "16 52 0\n",
      "[16, 52, 0]\n",
      "(779, 637, 63)\n"
     ]
    },
    {
     "name": "stderr",
     "output_type": "stream",
     "text": [
      "\r",
      "  7%|▋         | 12/181 [00:39<08:58,  3.19s/it]"
     ]
    },
    {
     "name": "stdout",
     "output_type": "stream",
     "text": [
      "B1775169 :\n",
      "0 9 0\n",
      "[0, 9, 0]\n",
      "(483, 465, 60)\n"
     ]
    },
    {
     "name": "stderr",
     "output_type": "stream",
     "text": [
      "\r",
      "  7%|▋         | 13/181 [00:41<07:36,  2.72s/it]"
     ]
    },
    {
     "name": "stdout",
     "output_type": "stream",
     "text": [
      "1433061 :\n",
      "0 16 0\n",
      "[0, 16, 0]\n",
      "(609, 524, 106)\n"
     ]
    },
    {
     "name": "stderr",
     "output_type": "stream",
     "text": [
      "\r",
      "  8%|▊         | 14/181 [00:45<08:46,  3.15s/it]"
     ]
    },
    {
     "name": "stdout",
     "output_type": "stream",
     "text": [
      "B1632110 :\n",
      "2 5 0\n",
      "[2, 5, 0]\n",
      "(663, 636, 79)\n"
     ]
    },
    {
     "name": "stderr",
     "output_type": "stream",
     "text": [
      "\r",
      "  8%|▊         | 15/181 [00:49<09:17,  3.36s/it]"
     ]
    },
    {
     "name": "stdout",
     "output_type": "stream",
     "text": [
      "1685560 :\n",
      "0 0 0\n",
      "[0, 0, 0]\n",
      "(625, 528, 153)\n"
     ]
    },
    {
     "name": "stderr",
     "output_type": "stream",
     "text": [
      "\r",
      "  9%|▉         | 16/181 [00:55<11:32,  4.20s/it]"
     ]
    },
    {
     "name": "stdout",
     "output_type": "stream",
     "text": [
      "B843043 :\n",
      "0 128 0\n",
      "[0, 128, 0]\n",
      "(657, 458, 69)\n"
     ]
    },
    {
     "name": "stderr",
     "output_type": "stream",
     "text": [
      "\r",
      "  9%|▉         | 17/181 [00:58<10:01,  3.66s/it]"
     ]
    },
    {
     "name": "stdout",
     "output_type": "stream",
     "text": [
      "B1049094 :\n",
      "0 15 0\n",
      "[0, 15, 0]\n",
      "(633, 521, 75)\n"
     ]
    },
    {
     "name": "stderr",
     "output_type": "stream",
     "text": [
      "\r",
      " 10%|▉         | 18/181 [01:00<09:19,  3.43s/it]"
     ]
    },
    {
     "name": "stdout",
     "output_type": "stream",
     "text": [
      "B1433061 :\n",
      "0 16 0\n",
      "[0, 16, 0]\n",
      "(609, 524, 106)\n"
     ]
    },
    {
     "name": "stderr",
     "output_type": "stream",
     "text": [
      "\r",
      " 10%|█         | 19/181 [01:05<09:51,  3.65s/it]"
     ]
    },
    {
     "name": "stdout",
     "output_type": "stream",
     "text": [
      "1709234 :\n",
      "0 69 0\n",
      "[0, 69, 0]\n",
      "(802, 619, 71)\n"
     ]
    },
    {
     "name": "stderr",
     "output_type": "stream",
     "text": [
      "\r",
      " 11%|█         | 20/181 [01:06<07:55,  2.95s/it]"
     ]
    },
    {
     "name": "stdout",
     "output_type": "stream",
     "text": [
      "error sample(no dura/SC): 1709234\n",
      "1261721 :\n",
      "0 4 0\n",
      "[0, 4, 0]\n",
      "(524, 520, 78)\n"
     ]
    },
    {
     "name": "stderr",
     "output_type": "stream",
     "text": [
      "\r",
      " 12%|█▏        | 21/181 [01:08<07:30,  2.82s/it]"
     ]
    },
    {
     "name": "stdout",
     "output_type": "stream",
     "text": [
      "1171704-neck :\n",
      "2 0 0\n",
      "[2, 0, 0]\n",
      "(498, 485, 61)\n"
     ]
    },
    {
     "name": "stderr",
     "output_type": "stream",
     "text": [
      "\r",
      " 12%|█▏        | 22/181 [01:10<06:47,  2.56s/it]"
     ]
    },
    {
     "name": "stdout",
     "output_type": "stream",
     "text": [
      "805736 :\n",
      "0 0 0\n",
      "[0, 0, 0]\n",
      "(575, 525, 80)\n"
     ]
    },
    {
     "name": "stderr",
     "output_type": "stream",
     "text": [
      "\r",
      " 13%|█▎        | 23/181 [01:13<06:56,  2.63s/it]"
     ]
    },
    {
     "name": "stdout",
     "output_type": "stream",
     "text": [
      "B614745 :\n",
      "0 9 0\n",
      "[0, 9, 0]\n",
      "(802, 685, 71)\n"
     ]
    },
    {
     "name": "stderr",
     "output_type": "stream",
     "text": [
      "\r",
      " 13%|█▎        | 24/181 [01:18<08:23,  3.21s/it]"
     ]
    },
    {
     "name": "stdout",
     "output_type": "stream",
     "text": [
      "B785777 :\n",
      "0 6 0\n",
      "[0, 6, 0]\n",
      "(558, 520, 85)\n"
     ]
    },
    {
     "name": "stderr",
     "output_type": "stream",
     "text": [
      "\r",
      " 14%|█▍        | 25/181 [01:21<08:06,  3.12s/it]"
     ]
    },
    {
     "name": "stdout",
     "output_type": "stream",
     "text": [
      "B644731 :\n",
      "0 8 0\n",
      "[0, 8, 0]\n",
      "(515, 506, 85)\n"
     ]
    },
    {
     "name": "stderr",
     "output_type": "stream",
     "text": [
      "\r",
      " 14%|█▍        | 26/181 [01:23<07:45,  3.00s/it]"
     ]
    },
    {
     "name": "stdout",
     "output_type": "stream",
     "text": [
      "1775169 :\n",
      "0 9 0\n",
      "[0, 9, 0]\n",
      "(483, 465, 60)\n"
     ]
    },
    {
     "name": "stderr",
     "output_type": "stream",
     "text": [
      "\r",
      " 15%|█▍        | 27/181 [01:25<06:38,  2.59s/it]"
     ]
    },
    {
     "name": "stdout",
     "output_type": "stream",
     "text": [
      "b1330821 :\n",
      "0 31 0\n",
      "[0, 31, 0]\n",
      "(512, 457, 82)\n"
     ]
    },
    {
     "name": "stderr",
     "output_type": "stream",
     "text": [
      "\r",
      " 15%|█▌        | 28/181 [01:27<06:27,  2.53s/it]"
     ]
    },
    {
     "name": "stdout",
     "output_type": "stream",
     "text": [
      "B825869 :\n",
      "2 23 0\n",
      "[2, 23, 0]\n",
      "(799, 597, 78)\n"
     ]
    },
    {
     "name": "stderr",
     "output_type": "stream",
     "text": [
      "\r",
      " 16%|█▌        | 29/181 [01:32<07:50,  3.09s/it]"
     ]
    },
    {
     "name": "stdout",
     "output_type": "stream",
     "text": [
      "868763 :\n",
      "0 2 0\n",
      "[0, 2, 0]\n",
      "(635, 599, 85)\n"
     ]
    },
    {
     "name": "stderr",
     "output_type": "stream",
     "text": [
      "\r",
      " 17%|█▋        | 30/181 [01:36<08:20,  3.32s/it]"
     ]
    },
    {
     "name": "stdout",
     "output_type": "stream",
     "text": [
      "B1678746 :\n",
      "0 6 0\n",
      "[0, 6, 0]\n",
      "(565, 510, 85)\n"
     ]
    },
    {
     "name": "stderr",
     "output_type": "stream",
     "text": [
      "\r",
      " 17%|█▋        | 31/181 [01:39<08:02,  3.22s/it]"
     ]
    },
    {
     "name": "stdout",
     "output_type": "stream",
     "text": [
      "B805736 :\n",
      "0 0 0\n",
      "[0, 0, 0]\n",
      "(575, 525, 80)\n"
     ]
    },
    {
     "name": "stderr",
     "output_type": "stream",
     "text": [
      "\r",
      " 18%|█▊        | 32/181 [01:41<07:41,  3.09s/it]"
     ]
    },
    {
     "name": "stdout",
     "output_type": "stream",
     "text": [
      "1427578 :\n",
      "1 120 0\n",
      "[1, 120, 0]\n",
      "(583, 396, 71)\n"
     ]
    },
    {
     "name": "stderr",
     "output_type": "stream",
     "text": [
      "\r",
      " 18%|█▊        | 33/181 [01:44<06:49,  2.77s/it]"
     ]
    },
    {
     "name": "stdout",
     "output_type": "stream",
     "text": [
      "B669349 :\n",
      "0 0 0\n",
      "[0, 0, 0]\n",
      "(579, 511, 63)\n"
     ]
    },
    {
     "name": "stderr",
     "output_type": "stream",
     "text": [
      "\r",
      " 19%|█▉        | 34/181 [01:46<06:17,  2.57s/it]"
     ]
    },
    {
     "name": "stdout",
     "output_type": "stream",
     "text": [
      "1302098 :\n",
      "0 91 0\n",
      "[0, 91, 0]\n",
      "(565, 462, 72)\n"
     ]
    },
    {
     "name": "stderr",
     "output_type": "stream",
     "text": [
      "\r",
      " 19%|█▉        | 35/181 [01:48<05:56,  2.44s/it]"
     ]
    },
    {
     "name": "stdout",
     "output_type": "stream",
     "text": [
      "644731 :\n",
      "0 8 0\n",
      "[0, 8, 0]\n",
      "(515, 506, 85)\n"
     ]
    },
    {
     "name": "stderr",
     "output_type": "stream",
     "text": [
      "\r",
      " 20%|█▉        | 36/181 [01:50<06:02,  2.50s/it]"
     ]
    },
    {
     "name": "stdout",
     "output_type": "stream",
     "text": [
      "1425167 :\n",
      "0 47 0\n",
      "[0, 47, 0]\n",
      "(797, 654, 85)\n"
     ]
    },
    {
     "name": "stderr",
     "output_type": "stream",
     "text": [
      "\r",
      " 20%|██        | 37/181 [01:56<08:05,  3.37s/it]"
     ]
    },
    {
     "name": "stdout",
     "output_type": "stream",
     "text": [
      "1756747 :\n",
      "0 67 0\n",
      "[0, 67, 0]\n",
      "(471, 373, 77)\n"
     ]
    },
    {
     "name": "stderr",
     "output_type": "stream",
     "text": [
      "\r",
      " 21%|██        | 38/181 [01:57<06:45,  2.83s/it]"
     ]
    },
    {
     "name": "stdout",
     "output_type": "stream",
     "text": [
      "B1330032 :\n",
      "0 52 0\n",
      "[0, 52, 0]\n",
      "(599, 414, 90)\n"
     ]
    },
    {
     "name": "stderr",
     "output_type": "stream",
     "text": [
      "\r",
      " 22%|██▏       | 39/181 [02:00<06:31,  2.75s/it]"
     ]
    },
    {
     "name": "stdout",
     "output_type": "stream",
     "text": [
      "B1694915 :\n",
      "1 1 0\n",
      "[1, 1, 0]\n",
      "(635, 630, 77)\n"
     ]
    },
    {
     "name": "stderr",
     "output_type": "stream",
     "text": [
      "\r",
      " 22%|██▏       | 40/181 [02:04<07:02,  3.00s/it]"
     ]
    },
    {
     "name": "stdout",
     "output_type": "stream",
     "text": [
      "843043 :\n",
      "0 128 0\n",
      "[0, 128, 0]\n",
      "(657, 458, 69)\n"
     ]
    },
    {
     "name": "stderr",
     "output_type": "stream",
     "text": [
      "\r",
      " 23%|██▎       | 41/181 [02:06<06:32,  2.80s/it]"
     ]
    },
    {
     "name": "stdout",
     "output_type": "stream",
     "text": [
      "B1613978 :\n",
      "3 64 0\n",
      "[3, 64, 0]\n",
      "(797, 671, 65)\n"
     ]
    },
    {
     "name": "stderr",
     "output_type": "stream",
     "text": [
      "\r",
      " 23%|██▎       | 42/181 [02:10<07:19,  3.16s/it]"
     ]
    },
    {
     "name": "stdout",
     "output_type": "stream",
     "text": [
      "910568 :\n",
      "0 53 0\n",
      "[0, 53, 0]\n",
      "(599, 502, 77)\n"
     ]
    },
    {
     "name": "stderr",
     "output_type": "stream",
     "text": [
      "\r",
      " 24%|██▍       | 43/181 [02:12<06:50,  2.98s/it]"
     ]
    },
    {
     "name": "stdout",
     "output_type": "stream",
     "text": [
      "B1424004 :\n",
      "0 30 0\n",
      "[0, 30, 0]\n",
      "(515, 482, 71)\n"
     ]
    },
    {
     "name": "stderr",
     "output_type": "stream",
     "text": [
      "\r",
      " 24%|██▍       | 44/181 [02:15<06:12,  2.72s/it]"
     ]
    },
    {
     "name": "stdout",
     "output_type": "stream",
     "text": [
      "1546477 :\n",
      "0 0 0\n",
      "[0, 0, 0]\n",
      "(591, 550, 79)\n"
     ]
    },
    {
     "name": "stderr",
     "output_type": "stream",
     "text": [
      "\r",
      " 25%|██▍       | 45/181 [02:18<06:22,  2.82s/it]"
     ]
    },
    {
     "name": "stdout",
     "output_type": "stream",
     "text": [
      "b824280-dingzi :\n",
      "4 159 0\n",
      "[4, 159, 0]\n",
      "(922, 452, 85)\n"
     ]
    },
    {
     "name": "stderr",
     "output_type": "stream",
     "text": [
      "\r",
      " 25%|██▌       | 46/181 [02:22<07:26,  3.31s/it]"
     ]
    },
    {
     "name": "stdout",
     "output_type": "stream",
     "text": [
      "1027338 :\n",
      "0 15 0\n",
      "[0, 15, 0]\n",
      "(577, 559, 85)\n"
     ]
    },
    {
     "name": "stderr",
     "output_type": "stream",
     "text": [
      "\r",
      " 26%|██▌       | 47/181 [02:25<07:20,  3.28s/it]"
     ]
    },
    {
     "name": "stdout",
     "output_type": "stream",
     "text": [
      "B1735950 :\n",
      "0 185 0\n",
      "[0, 185, 0]\n",
      "(565, 313, 74)\n"
     ]
    },
    {
     "name": "stderr",
     "output_type": "stream",
     "text": [
      "\r",
      " 27%|██▋       | 48/181 [02:27<06:10,  2.79s/it]"
     ]
    },
    {
     "name": "stdout",
     "output_type": "stream",
     "text": [
      "1694915 :\n",
      "1 1 0\n",
      "[1, 1, 0]\n",
      "(635, 630, 77)\n"
     ]
    },
    {
     "name": "stderr",
     "output_type": "stream",
     "text": [
      "\r",
      " 27%|██▋       | 49/181 [02:30<06:34,  2.99s/it]"
     ]
    },
    {
     "name": "stdout",
     "output_type": "stream",
     "text": [
      "B1006763 :\n",
      "0 6 0\n",
      "[0, 6, 0]\n",
      "(611, 532, 82)\n"
     ]
    },
    {
     "name": "stderr",
     "output_type": "stream",
     "text": [
      "\r",
      " 28%|██▊       | 50/181 [02:34<06:38,  3.04s/it]"
     ]
    },
    {
     "name": "stdout",
     "output_type": "stream",
     "text": [
      "602788 :\n",
      "0 53 0\n",
      "[0, 53, 0]\n",
      "(652, 535, 76)\n"
     ]
    },
    {
     "name": "stderr",
     "output_type": "stream",
     "text": [
      "\r",
      " 28%|██▊       | 51/181 [02:37<06:34,  3.03s/it]"
     ]
    },
    {
     "name": "stdout",
     "output_type": "stream",
     "text": [
      "1735950 :\n",
      "0 185 0\n",
      "[0, 185, 0]\n",
      "(565, 313, 74)\n"
     ]
    },
    {
     "name": "stderr",
     "output_type": "stream",
     "text": [
      "\r",
      " 29%|██▊       | 52/181 [02:38<05:35,  2.60s/it]"
     ]
    },
    {
     "name": "stdout",
     "output_type": "stream",
     "text": [
      "B1261721 :\n",
      "0 4 0\n",
      "[0, 4, 0]\n",
      "(524, 520, 78)\n"
     ]
    },
    {
     "name": "stderr",
     "output_type": "stream",
     "text": [
      "\r",
      " 29%|██▉       | 53/181 [02:41<05:32,  2.59s/it]"
     ]
    },
    {
     "name": "stdout",
     "output_type": "stream",
     "text": [
      "976555 :\n",
      "0 7 0\n",
      "[0, 7, 0]\n",
      "(543, 441, 72)\n"
     ]
    },
    {
     "name": "stderr",
     "output_type": "stream",
     "text": [
      "\r",
      " 30%|██▉       | 54/181 [02:43<05:08,  2.43s/it]"
     ]
    },
    {
     "name": "stdout",
     "output_type": "stream",
     "text": [
      "1650523 :\n",
      "0 3 0\n",
      "[0, 3, 0]\n",
      "(582, 475, 85)\n"
     ]
    },
    {
     "name": "stderr",
     "output_type": "stream",
     "text": [
      "\r",
      " 30%|███       | 55/181 [02:46<05:22,  2.56s/it]"
     ]
    },
    {
     "name": "stdout",
     "output_type": "stream",
     "text": [
      "B634961 :\n",
      "1 126 0\n",
      "[1, 126, 0]\n",
      "(799, 497, 79)\n"
     ]
    },
    {
     "name": "stderr",
     "output_type": "stream",
     "text": [
      "\r",
      " 31%|███       | 56/181 [02:49<06:00,  2.89s/it]"
     ]
    },
    {
     "name": "stdout",
     "output_type": "stream",
     "text": [
      "617407 :\n",
      "0 121 0\n",
      "[0, 121, 0]\n",
      "(749, 563, 103)\n"
     ]
    },
    {
     "name": "stderr",
     "output_type": "stream",
     "text": [
      "\r",
      " 31%|███▏      | 57/181 [02:55<07:27,  3.61s/it]"
     ]
    },
    {
     "name": "stdout",
     "output_type": "stream",
     "text": [
      "604203 :\n",
      "16 52 0\n",
      "[16, 52, 0]\n",
      "(779, 637, 63)\n"
     ]
    },
    {
     "name": "stderr",
     "output_type": "stream",
     "text": [
      "\r",
      " 32%|███▏      | 58/181 [02:58<07:19,  3.57s/it]"
     ]
    },
    {
     "name": "stdout",
     "output_type": "stream",
     "text": [
      "1071084 :\n",
      "0 10 0\n",
      "[0, 10, 0]\n",
      "(577, 526, 85)\n"
     ]
    },
    {
     "name": "stderr",
     "output_type": "stream",
     "text": [
      "\r",
      " 33%|███▎      | 59/181 [03:01<06:55,  3.40s/it]"
     ]
    },
    {
     "name": "stdout",
     "output_type": "stream",
     "text": [
      "617529 :\n",
      "0 33 0\n",
      "[0, 33, 0]\n",
      "(611, 543, 88)\n"
     ]
    },
    {
     "name": "stderr",
     "output_type": "stream",
     "text": [
      "\r",
      " 33%|███▎      | 60/181 [03:04<06:50,  3.39s/it]"
     ]
    },
    {
     "name": "stdout",
     "output_type": "stream",
     "text": [
      "877502 :\n",
      "0 59 0\n",
      "[0, 59, 0]\n",
      "(703, 622, 70)\n"
     ]
    },
    {
     "name": "stderr",
     "output_type": "stream",
     "text": [
      "\r",
      " 34%|███▎      | 61/181 [03:08<06:46,  3.38s/it]"
     ]
    },
    {
     "name": "stdout",
     "output_type": "stream",
     "text": [
      "B1756747 :\n",
      "0 67 0\n",
      "[0, 67, 0]\n",
      "(471, 373, 77)\n"
     ]
    },
    {
     "name": "stderr",
     "output_type": "stream",
     "text": [
      "\r",
      " 34%|███▍      | 62/181 [03:09<05:35,  2.82s/it]"
     ]
    },
    {
     "name": "stdout",
     "output_type": "stream",
     "text": [
      "634961 :\n",
      "1 126 0\n",
      "[1, 126, 0]\n",
      "(799, 497, 79)\n"
     ]
    },
    {
     "name": "stderr",
     "output_type": "stream",
     "text": [
      "\r",
      " 35%|███▍      | 63/181 [03:13<06:03,  3.08s/it]"
     ]
    },
    {
     "name": "stdout",
     "output_type": "stream",
     "text": [
      "1767866 :\n",
      "0 6 0\n",
      "[0, 6, 0]\n",
      "(616, 602, 75)\n"
     ]
    },
    {
     "name": "stderr",
     "output_type": "stream",
     "text": [
      "\r",
      " 35%|███▌      | 64/181 [03:16<06:01,  3.09s/it]"
     ]
    },
    {
     "name": "stdout",
     "output_type": "stream",
     "text": [
      "B820069 :\n",
      "0 0 0\n",
      "[0, 0, 0]\n",
      "(497, 497, 80)\n"
     ]
    },
    {
     "name": "stderr",
     "output_type": "stream",
     "text": [
      "\r",
      " 36%|███▌      | 65/181 [03:18<05:34,  2.88s/it]"
     ]
    },
    {
     "name": "stdout",
     "output_type": "stream",
     "text": [
      "797018 :\n",
      "0 1 0\n",
      "[0, 1, 0]\n",
      "(584, 515, 76)\n"
     ]
    },
    {
     "name": "stderr",
     "output_type": "stream",
     "text": [
      "\r",
      " 36%|███▋      | 66/181 [03:21<05:24,  2.83s/it]"
     ]
    },
    {
     "name": "stdout",
     "output_type": "stream",
     "text": [
      "b1433611 :\n",
      "0 127 0\n",
      "[0, 127, 0]\n",
      "(799, 454, 65)\n"
     ]
    },
    {
     "name": "stderr",
     "output_type": "stream",
     "text": [
      "\r",
      " 37%|███▋      | 67/181 [03:24<05:19,  2.80s/it]"
     ]
    },
    {
     "name": "stdout",
     "output_type": "stream",
     "text": [
      "759663 :\n",
      "0 157 0\n",
      "[0, 157, 0]\n",
      "(521, 352, 85)\n"
     ]
    },
    {
     "name": "stderr",
     "output_type": "stream",
     "text": [
      "\r",
      " 38%|███▊      | 68/181 [03:26<04:47,  2.55s/it]"
     ]
    },
    {
     "name": "stdout",
     "output_type": "stream",
     "text": [
      "1182723 :\n",
      "0 7 0\n",
      "[0, 7, 0]\n",
      "(587, 553, 75)\n"
     ]
    },
    {
     "name": "stderr",
     "output_type": "stream",
     "text": [
      "\r",
      " 38%|███▊      | 69/181 [03:29<04:53,  2.62s/it]"
     ]
    },
    {
     "name": "stdout",
     "output_type": "stream",
     "text": [
      "1352900 :\n",
      "0 0 0\n",
      "[0, 0, 0]\n",
      "(647, 567, 81)\n"
     ]
    },
    {
     "name": "stderr",
     "output_type": "stream",
     "text": [
      "\r",
      " 39%|███▊      | 70/181 [03:32<05:19,  2.88s/it]"
     ]
    },
    {
     "name": "stdout",
     "output_type": "stream",
     "text": [
      "b1460036-neck :\n",
      "9 0 0\n",
      "[9, 0, 0]\n",
      "(490, 500, 63)\n"
     ]
    },
    {
     "name": "stderr",
     "output_type": "stream",
     "text": [
      "\r",
      " 39%|███▉      | 71/181 [03:34<04:49,  2.63s/it]"
     ]
    },
    {
     "name": "stdout",
     "output_type": "stream",
     "text": [
      "B617407 :\n",
      "0 121 0\n",
      "[0, 121, 0]\n",
      "(749, 563, 103)\n"
     ]
    },
    {
     "name": "stderr",
     "output_type": "stream",
     "text": [
      "\r",
      " 40%|███▉      | 72/181 [03:39<06:14,  3.43s/it]"
     ]
    },
    {
     "name": "stdout",
     "output_type": "stream",
     "text": [
      "B1546477 :\n",
      "0 0 0\n",
      "[0, 0, 0]\n",
      "(591, 550, 79)\n"
     ]
    },
    {
     "name": "stderr",
     "output_type": "stream",
     "text": [
      "\r",
      " 40%|████      | 73/181 [03:43<05:59,  3.33s/it]"
     ]
    },
    {
     "name": "stdout",
     "output_type": "stream",
     "text": [
      "B868763 :\n",
      "0 2 0\n",
      "[0, 2, 0]\n",
      "(635, 599, 85)\n"
     ]
    },
    {
     "name": "stderr",
     "output_type": "stream",
     "text": [
      "\r",
      " 41%|████      | 74/181 [03:46<06:07,  3.43s/it]"
     ]
    },
    {
     "name": "stdout",
     "output_type": "stream",
     "text": [
      "B1700637-lumbar :\n",
      "0 16 0\n",
      "[0, 16, 0]\n",
      "(478, 430, 95)\n"
     ]
    },
    {
     "name": "stderr",
     "output_type": "stream",
     "text": [
      "\r",
      " 41%|████▏     | 75/181 [03:48<05:25,  3.07s/it]"
     ]
    },
    {
     "name": "stdout",
     "output_type": "stream",
     "text": [
      "b1460036-thoracic :\n",
      "0 0 0\n",
      "[0, 0, 0]\n",
      "(799, 644, 164)\n"
     ]
    },
    {
     "name": "stderr",
     "output_type": "stream",
     "text": [
      "\r",
      " 42%|████▏     | 76/181 [03:59<09:20,  5.33s/it]"
     ]
    },
    {
     "name": "stdout",
     "output_type": "stream",
     "text": [
      "1409022-no SC :\n",
      "0 80 0\n",
      "[0, 80, 0]\n",
      "(647, 474, 74)\n"
     ]
    },
    {
     "name": "stderr",
     "output_type": "stream",
     "text": [
      "\r",
      " 43%|████▎     | 77/181 [04:00<07:00,  4.04s/it]"
     ]
    },
    {
     "name": "stdout",
     "output_type": "stream",
     "text": [
      "error sample(no dura/SC): 1409022-no SC\n",
      "1328036 :\n",
      "0 62 0\n",
      "[0, 62, 0]\n",
      "(599, 441, 93)\n"
     ]
    },
    {
     "name": "stderr",
     "output_type": "stream",
     "text": [
      "\r",
      " 43%|████▎     | 78/181 [04:03<06:18,  3.67s/it]"
     ]
    },
    {
     "name": "stdout",
     "output_type": "stream",
     "text": [
      "987535 :\n",
      "0 6 0\n",
      "[0, 6, 0]\n",
      "(557, 524, 68)\n"
     ]
    },
    {
     "name": "stderr",
     "output_type": "stream",
     "text": [
      "\r",
      " 44%|████▎     | 79/181 [04:05<05:33,  3.27s/it]"
     ]
    },
    {
     "name": "stdout",
     "output_type": "stream",
     "text": [
      "1006763 :\n",
      "0 6 0\n",
      "[0, 6, 0]\n",
      "(611, 532, 82)\n"
     ]
    },
    {
     "name": "stderr",
     "output_type": "stream",
     "text": [
      "\r",
      " 44%|████▍     | 80/181 [04:08<05:27,  3.24s/it]"
     ]
    },
    {
     "name": "stdout",
     "output_type": "stream",
     "text": [
      "B1713865 :\n",
      "0 28 0\n",
      "[0, 28, 0]\n",
      "(575, 464, 77)\n"
     ]
    },
    {
     "name": "stderr",
     "output_type": "stream",
     "text": [
      "\r",
      " 45%|████▍     | 81/181 [04:11<05:00,  3.00s/it]"
     ]
    },
    {
     "name": "stdout",
     "output_type": "stream",
     "text": [
      "B1532418 :\n",
      "0 7 0\n",
      "[0, 7, 0]\n",
      "(620, 530, 79)\n"
     ]
    },
    {
     "name": "stderr",
     "output_type": "stream",
     "text": [
      "\r",
      " 45%|████▌     | 82/181 [04:14<04:56,  2.99s/it]"
     ]
    },
    {
     "name": "stdout",
     "output_type": "stream",
     "text": [
      "1333768 :\n",
      "0 80 0\n",
      "[0, 80, 0]\n",
      "(802, 600, 71)\n"
     ]
    },
    {
     "name": "stderr",
     "output_type": "stream",
     "text": [
      "\r",
      " 46%|████▌     | 83/181 [04:18<05:21,  3.28s/it]"
     ]
    },
    {
     "name": "stdout",
     "output_type": "stream",
     "text": [
      "928806 :\n",
      "0 74 0\n",
      "[0, 74, 0]\n",
      "(527, 426, 82)\n"
     ]
    },
    {
     "name": "stderr",
     "output_type": "stream",
     "text": [
      "\r",
      " 46%|████▋     | 84/181 [04:20<04:43,  2.92s/it]"
     ]
    },
    {
     "name": "stdout",
     "output_type": "stream",
     "text": [
      "b1784289-noexcel :\n",
      "0 105 0\n",
      "[0, 105, 0]\n",
      "(558, 408, 79)\n"
     ]
    },
    {
     "name": "stderr",
     "output_type": "stream",
     "text": [
      "\r",
      " 47%|████▋     | 85/181 [04:22<04:19,  2.70s/it]"
     ]
    },
    {
     "name": "stdout",
     "output_type": "stream",
     "text": [
      "B1227957 :\n",
      "0 74 0\n",
      "[0, 74, 0]\n",
      "(799, 549, 71)\n"
     ]
    },
    {
     "name": "stderr",
     "output_type": "stream",
     "text": [
      "\r",
      " 48%|████▊     | 86/181 [04:26<04:38,  2.94s/it]"
     ]
    },
    {
     "name": "stdout",
     "output_type": "stream",
     "text": [
      "B1709234 :\n",
      "0 69 0\n",
      "[0, 69, 0]\n",
      "(802, 619, 71)\n"
     ]
    },
    {
     "name": "stderr",
     "output_type": "stream",
     "text": [
      "\r",
      " 48%|████▊     | 87/181 [04:27<03:51,  2.47s/it]"
     ]
    },
    {
     "name": "stdout",
     "output_type": "stream",
     "text": [
      "error sample(no dura/SC): B1709234\n",
      "1330032 :\n",
      "0 52 0\n",
      "[0, 52, 0]\n",
      "(599, 414, 90)\n"
     ]
    },
    {
     "name": "stderr",
     "output_type": "stream",
     "text": [
      "\r",
      " 49%|████▊     | 88/181 [04:29<03:49,  2.47s/it]"
     ]
    },
    {
     "name": "stdout",
     "output_type": "stream",
     "text": [
      "B1181908 :\n",
      "0 12 0\n",
      "[0, 12, 0]\n",
      "(799, 615, 75)\n"
     ]
    },
    {
     "name": "stderr",
     "output_type": "stream",
     "text": [
      "\r",
      " 49%|████▉     | 89/181 [04:34<04:44,  3.10s/it]"
     ]
    },
    {
     "name": "stdout",
     "output_type": "stream",
     "text": [
      "B772230 :\n",
      "0 31 0\n",
      "[0, 31, 0]\n",
      "(599, 524, 73)\n"
     ]
    },
    {
     "name": "stderr",
     "output_type": "stream",
     "text": [
      "\r",
      " 50%|████▉     | 90/181 [04:36<04:25,  2.91s/it]"
     ]
    },
    {
     "name": "stdout",
     "output_type": "stream",
     "text": [
      "1613978 :\n",
      "3 64 0\n",
      "[3, 64, 0]\n",
      "(797, 671, 65)\n"
     ]
    },
    {
     "name": "stderr",
     "output_type": "stream",
     "text": [
      "\r",
      " 50%|█████     | 91/181 [04:40<04:49,  3.22s/it]"
     ]
    },
    {
     "name": "stdout",
     "output_type": "stream",
     "text": [
      "685245 :\n",
      "0 8 0\n",
      "[0, 8, 0]\n",
      "(802, 619, 74)\n"
     ]
    },
    {
     "name": "stderr",
     "output_type": "stream",
     "text": [
      "\r",
      " 51%|█████     | 92/181 [04:45<05:15,  3.55s/it]"
     ]
    },
    {
     "name": "stdout",
     "output_type": "stream",
     "text": [
      "B1650523 :\n",
      "0 3 0\n",
      "[0, 3, 0]\n",
      "(582, 475, 85)\n"
     ]
    },
    {
     "name": "stderr",
     "output_type": "stream",
     "text": [
      "\r",
      " 51%|█████▏    | 93/181 [04:48<04:53,  3.33s/it]"
     ]
    },
    {
     "name": "stdout",
     "output_type": "stream",
     "text": [
      "B872077 :\n",
      "0 111 0\n",
      "[0, 111, 0]\n",
      "(599, 393, 87)\n"
     ]
    },
    {
     "name": "stderr",
     "output_type": "stream",
     "text": [
      "\r",
      " 52%|█████▏    | 94/181 [04:50<04:21,  3.01s/it]"
     ]
    },
    {
     "name": "stdout",
     "output_type": "stream",
     "text": [
      "614745 :\n",
      "0 9 0\n",
      "[0, 9, 0]\n",
      "(802, 685, 71)\n"
     ]
    },
    {
     "name": "stderr",
     "output_type": "stream",
     "text": [
      "\r",
      " 52%|█████▏    | 95/181 [04:54<04:54,  3.43s/it]"
     ]
    },
    {
     "name": "stdout",
     "output_type": "stream",
     "text": [
      "1181908 :\n",
      "0 12 0\n",
      "[0, 12, 0]\n",
      "(799, 615, 75)\n"
     ]
    },
    {
     "name": "stderr",
     "output_type": "stream",
     "text": [
      "\r",
      " 53%|█████▎    | 96/181 [04:59<05:18,  3.75s/it]"
     ]
    },
    {
     "name": "stdout",
     "output_type": "stream",
     "text": [
      "1362738 :\n",
      "0 108 0\n",
      "[0, 108, 0]\n",
      "(799, 574, 77)\n"
     ]
    },
    {
     "name": "stderr",
     "output_type": "stream",
     "text": [
      "\r",
      " 54%|█████▎    | 97/181 [05:03<05:30,  3.93s/it]"
     ]
    },
    {
     "name": "stdout",
     "output_type": "stream",
     "text": [
      "1204183-dingzi :\n",
      "1 133 0\n",
      "[1, 133, 0]\n",
      "(620, 383, 84)\n"
     ]
    },
    {
     "name": "stderr",
     "output_type": "stream",
     "text": [
      "\r",
      " 54%|█████▍    | 98/181 [05:06<04:51,  3.51s/it]"
     ]
    },
    {
     "name": "stdout",
     "output_type": "stream",
     "text": [
      "872077 :\n",
      "0 111 0\n",
      "[0, 111, 0]\n",
      "(599, 393, 87)\n"
     ]
    },
    {
     "name": "stderr",
     "output_type": "stream",
     "text": [
      "\r",
      " 55%|█████▍    | 99/181 [05:08<04:16,  3.13s/it]"
     ]
    },
    {
     "name": "stdout",
     "output_type": "stream",
     "text": [
      "1460036-neck :\n",
      "9 0 0\n",
      "[9, 0, 0]\n",
      "(490, 500, 63)\n"
     ]
    },
    {
     "name": "stderr",
     "output_type": "stream",
     "text": [
      "\r",
      " 55%|█████▌    | 100/181 [05:10<03:46,  2.79s/it]"
     ]
    },
    {
     "name": "stdout",
     "output_type": "stream",
     "text": [
      "B602788 :\n",
      "0 53 0\n",
      "[0, 53, 0]\n",
      "(652, 535, 76)\n"
     ]
    },
    {
     "name": "stderr",
     "output_type": "stream",
     "text": [
      "\r",
      " 56%|█████▌    | 101/181 [05:13<03:51,  2.89s/it]"
     ]
    },
    {
     "name": "stdout",
     "output_type": "stream",
     "text": [
      "B1298116 :\n",
      "0 5 0\n",
      "[0, 5, 0]\n",
      "(500, 495, 78)\n"
     ]
    },
    {
     "name": "stderr",
     "output_type": "stream",
     "text": [
      "\r",
      " 56%|█████▋    | 102/181 [05:15<03:35,  2.72s/it]"
     ]
    },
    {
     "name": "stdout",
     "output_type": "stream",
     "text": [
      "b1071084 :\n",
      "0 10 0\n",
      "[0, 10, 0]\n",
      "(577, 526, 85)\n"
     ]
    },
    {
     "name": "stderr",
     "output_type": "stream",
     "text": [
      "\r",
      " 57%|█████▋    | 103/181 [05:18<03:39,  2.82s/it]"
     ]
    },
    {
     "name": "stdout",
     "output_type": "stream",
     "text": [
      "B617529 :\n",
      "0 33 0\n",
      "[0, 33, 0]\n",
      "(611, 543, 88)\n"
     ]
    },
    {
     "name": "stderr",
     "output_type": "stream",
     "text": [
      "\r",
      " 57%|█████▋    | 104/181 [05:22<03:49,  2.98s/it]"
     ]
    },
    {
     "name": "stdout",
     "output_type": "stream",
     "text": [
      "1018366 :\n",
      "0 102 0\n",
      "[0, 102, 0]\n",
      "(674, 540, 95)\n"
     ]
    },
    {
     "name": "stderr",
     "output_type": "stream",
     "text": [
      "\r",
      " 58%|█████▊    | 105/181 [05:26<04:06,  3.24s/it]"
     ]
    },
    {
     "name": "stdout",
     "output_type": "stream",
     "text": [
      "B976555 :\n",
      "0 7 0\n",
      "[0, 7, 0]\n",
      "(543, 441, 72)\n"
     ]
    },
    {
     "name": "stderr",
     "output_type": "stream",
     "text": [
      "\r",
      " 59%|█████▊    | 106/181 [05:28<03:35,  2.88s/it]"
     ]
    },
    {
     "name": "stdout",
     "output_type": "stream",
     "text": [
      "945286 :\n",
      "0 2 0\n",
      "[0, 2, 0]\n",
      "(599, 548, 81)\n"
     ]
    },
    {
     "name": "stderr",
     "output_type": "stream",
     "text": [
      "\r",
      " 59%|█████▉    | 107/181 [05:31<03:37,  2.94s/it]"
     ]
    },
    {
     "name": "stdout",
     "output_type": "stream",
     "text": [
      "b936932-dingzi :\n",
      "0 124 0\n",
      "[0, 124, 0]\n",
      "(799, 524, 85)\n"
     ]
    },
    {
     "name": "stderr",
     "output_type": "stream",
     "text": [
      "\r",
      " 60%|█████▉    | 108/181 [05:35<04:02,  3.33s/it]"
     ]
    },
    {
     "name": "stdout",
     "output_type": "stream",
     "text": [
      "824280-dingzi :\n",
      "4 159 0\n",
      "[4, 159, 0]\n",
      "(922, 452, 85)\n"
     ]
    },
    {
     "name": "stderr",
     "output_type": "stream",
     "text": [
      "\r",
      " 60%|██████    | 109/181 [05:39<04:21,  3.63s/it]"
     ]
    },
    {
     "name": "stdout",
     "output_type": "stream",
     "text": [
      "B797018 :\n",
      "0 1 0\n",
      "[0, 1, 0]\n",
      "(584, 515, 76)\n"
     ]
    },
    {
     "name": "stderr",
     "output_type": "stream",
     "text": [
      "\r",
      " 61%|██████    | 110/181 [05:42<03:57,  3.35s/it]"
     ]
    },
    {
     "name": "stdout",
     "output_type": "stream",
     "text": [
      "1330821 :\n",
      "0 31 0\n",
      "[0, 31, 0]\n",
      "(512, 457, 82)\n"
     ]
    },
    {
     "name": "stderr",
     "output_type": "stream",
     "text": [
      "\r",
      " 61%|██████▏   | 111/181 [05:44<03:33,  3.05s/it]"
     ]
    },
    {
     "name": "stdout",
     "output_type": "stream",
     "text": [
      "669349 :\n",
      "0 0 0\n",
      "[0, 0, 0]\n",
      "(579, 511, 63)\n"
     ]
    },
    {
     "name": "stderr",
     "output_type": "stream",
     "text": [
      "\r",
      " 62%|██████▏   | 112/181 [05:46<03:10,  2.76s/it]"
     ]
    },
    {
     "name": "stdout",
     "output_type": "stream",
     "text": [
      "652658 :\n",
      "0 132 0\n",
      "[0, 132, 0]\n",
      "(558, 340, 70)\n"
     ]
    },
    {
     "name": "stderr",
     "output_type": "stream",
     "text": [
      "\r",
      " 62%|██████▏   | 113/181 [05:48<02:44,  2.42s/it]"
     ]
    },
    {
     "name": "stdout",
     "output_type": "stream",
     "text": [
      "B1334915-need revision :\n",
      "0 0 0\n",
      "[0, 0, 0]\n",
      "> <ipython-input-2-1a22f6c59c68>(110)get_stats()\n",
      "-> print('stop')\n"
     ]
    }
   ],
   "source": [
    "import numpy as np\n",
    "from glob import glob\n",
    "from tqdm import tqdm\n",
    "import h5py\n",
    "import nrrd\n",
    "import pandas as pd\n",
    "import SimpleITK as sitk\n",
    "\n",
    "output_size =[128, 128, 64]\n",
    "\n",
    "def resample_image3D(\n",
    "    image3D,\n",
    "    newspacing=[0.3,0.3,3],\n",
    "    newsize=None,\n",
    "    method='Linear',):\n",
    "    \"\"\"做插值\"\"\"\n",
    "    resample = sitk.ResampleImageFilter()\n",
    "    if method is 'Linear':\n",
    "        resample.SetInterpolator(sitk.sitkLinear)\n",
    "    elif method is 'Nearest':\n",
    "        resample.SetInterpolator(sitk.sitkNearestNeighbor)\n",
    "    resample.SetOutputDirection(image3D.GetDirection())\n",
    "    resample.SetOutputOrigin(image3D.GetOrigin())\n",
    "    resample.SetOutputSpacing(newspacing)\n",
    "\n",
    "    if not newsize:\n",
    "        newsize = np.round(np.array(image3D.GetSize())*np.abs(image3D.GetSpacing())/np.array(newspacing)).astype('int').tolist()\n",
    "\n",
    "    resample.SetSize(newsize)\n",
    "    # resample.SetDefaultPixelValue(0)\n",
    "\n",
    "    newimage = resample.Execute(image3D)\n",
    "#     data1 = sitk.GetArrayFromImage(newimage)\n",
    "#     print(data1)\n",
    "    return newimage\n",
    "\n",
    "# 数组替换元素\n",
    "def array_replace(array,olds,news):\n",
    "    #olds:list of old value\n",
    "    #news:list of new value\n",
    "    olds = np.array(olds)\n",
    "    news = np.array(news)\n",
    "    offset = olds.max()*10\n",
    "    tmps = olds+offset\n",
    "    for old,tmp in zip(olds,tmps):\n",
    "        array[array==old] = tmp\n",
    "    for tmp,new in zip(tmps,news):\n",
    "        array[array==tmp] = new\n",
    "    return array\n",
    "    \n",
    "    \n",
    "def get_stats(glob_str, old_replaced, new_replaced):\n",
    "    \"\"\"\n",
    "    获取数据集的统计信息。\n",
    "    备注：不要骨头，骨头合并到背景类别中\n",
    "    \"\"\"\n",
    "    listt = glob(glob_str)\n",
    "    error_samples = []\n",
    "    stats = pd.DataFrame(columns=['sample_name',\n",
    "                                  'mean_whole', \n",
    "                                  'mean_bg', \n",
    "                                  'mean_dura', \n",
    "                                  'mean_SC', \n",
    "                                  'std_whole',\n",
    "                                  'std_bg',\n",
    "                                  'std_dura',\n",
    "                                  'std_SC',\n",
    "                                  'old_space0','old_space1','old_space2',\n",
    "                                  'new_space0','new_space1','new_space2',\n",
    "                                 ])\n",
    "    for item in tqdm(listt):\n",
    "        sample_name = item.split('/')[-2]\n",
    "        print(sample_name,':')#win系统改为'\\\\'\n",
    "\n",
    "        image = sitk.ReadImage(item)\n",
    "        label = sitk.ReadImage(item.replace(old_replaced, 'Segmentation-label.nrrd'))\n",
    "        seg = sitk.ReadImage(item.replace(old_replaced, 'Segmentation.seg.nrrd'))\n",
    "        \n",
    "        oldspacing = np.abs(image.GetSpacing())\n",
    "        newspacing = [0.3, 0.3, 3.0]\n",
    "        print(seg.GetMetaData('Segmentation_ReferenceImageExtentOffset'))\n",
    "        offset = [int(k) for k in seg.GetMetaData('Segmentation_ReferenceImageExtentOffset').split()]\n",
    "        print(offset)\n",
    "        offset = ( np.array(offset)*np.array(oldspacing)/np.array(newspacing) ).astype(int).tolist()\n",
    "        label_name = [\n",
    "            seg.GetMetaData('Segment0_Name'),\n",
    "            seg.GetMetaData('Segment1_Name'),\n",
    "            seg.GetMetaData('Segment2_Name') \n",
    "            ]#人工标注的类别顺序\n",
    "        \n",
    "        # resample\n",
    "        image = resample_image3D(image,newspacing,method='Linear')\n",
    "        label = resample_image3D(label,newspacing,method='Nearest')#,newsize=image.GetSize()\n",
    "        seg = resample_image3D(seg,newspacing)\n",
    "        \n",
    "        # cut\n",
    "        sizes = seg.GetSize()#resample后seg的size\n",
    "        image = sitk.GetArrayFromImage(image).transpose((2,1,0))#tanspose之后才能与sizes匹配\n",
    "        label = sitk.GetArrayFromImage(label).transpose((2,1,0))#tanspose之后才能与sizes匹配\n",
    "        seg = sitk.GetArrayFromImage(seg).transpose((3,2,1,0))#tanspose之后才能与sizes匹配\n",
    "        \n",
    "        if not image.shape==label.shape:\n",
    "            import pdb\n",
    "            pdb.set_trace()\n",
    "            print('stop')\n",
    "        assert np.abs(np.array(image.shape)-np.array(label.shape)).sum()<=1, \"mismatch shape of image and label\"\n",
    "            \n",
    "            \n",
    "        image = image[offset[0]:offset[0]+sizes[0],\n",
    "                      offset[1]:offset[1]+sizes[1],\n",
    "                      offset[2]:offset[2]+sizes[2]]\n",
    "        label = label[offset[0]:offset[0]+sizes[0],\n",
    "                      offset[1]:offset[1]+sizes[1],\n",
    "                      offset[2]:offset[2]+sizes[2]].astype(np.uint8)\n",
    "        \n",
    "#         import pdb\n",
    "#         pdb.set_trace()\n",
    "        print(image.shape)\n",
    "        # 错误病例：标记的尺寸和image尺寸不同，缺少其中一个类别或者多个类别的标记\n",
    "        if not np.unique(label).tolist()==[0,1,2,3]:\n",
    "            error_samples.append(sample_name)\n",
    "            print(\"error sample(no dura/SC):\",sample_name)\n",
    "            continue\n",
    "        \n",
    "        if not np.abs(np.array(image.shape)-np.array(seg.shape[1::])).sum()<=1:\n",
    "            error_samples.append(sample_name)\n",
    "            print(\"error sample(shape mismatch):\",sample_name)\n",
    "            continue\n",
    "            \n",
    "        \n",
    "        ## 调整顺序，注意：seg是onehot编码\n",
    "        target_name = ['dura','bone','SC']#目标类别顺序\n",
    "        idx = [label_name.index(name) for name in target_name]\n",
    "        idx = np.array(idx)+1\n",
    "        idx = [0]+idx.tolist()\n",
    "        label = array_replace(label,olds=[0,1,2,3],news=idx)\n",
    "        \n",
    "        # 合并骨头到背景中\n",
    "        label[label==2] = 0\n",
    "        label[label==3] = 2\n",
    "        \n",
    "        # 统计信息\n",
    "        \n",
    "        # std\n",
    "        std_whole = np.std(image)\n",
    "        std_bg = np.std(image[label==0])\n",
    "        std_dura = np.std(image[label==1])\n",
    "        std_SC = np.std(image[label==2])\n",
    "        # mean\n",
    "        mean_whole = np.mean(image)\n",
    "        mean_bg = np.mean(image[label==0])\n",
    "        mean_dura = np.mean(image[label==1])\n",
    "        mean_SC = np.mean(image[label==2])\n",
    "        \n",
    "        stats.loc[sample_name]=[sample_name,\n",
    "                                mean_whole,mean_bg,mean_dura,mean_SC,\n",
    "                                std_whole,std_bg,std_dura,std_SC,\n",
    "                                oldspacing[0],oldspacing[1],oldspacing[2],\n",
    "                                newspacing[0],newspacing[1],newspacing[2],\n",
    "                               ]   \n",
    "        \n",
    "    return error_samples,stats\n",
    "\n",
    "def covert_h5_unseg(glob_str, old_replaced, new_replaced):\n",
    "    \"\"\"\n",
    "    备注：无标注数据的格式转换\n",
    "    \"\"\"\n",
    "    listt = glob(glob_str)\n",
    "    for item in tqdm(listt):\n",
    "        print(item.split('/')[-2],':')\n",
    "        # 读取原始图\n",
    "        image, img_header = nrrd.read(item) \n",
    "        \n",
    "#         # 缩小图像\n",
    "#         image = image[0:-1:2,0:-1:2,:]\n",
    "\n",
    "#         # 标准化\n",
    "#         image = (image - np.mean(image)) / np.std(image)\n",
    "#         image = image.astype(np.float32)\n",
    "#         print(image.shape)\n",
    "        \n",
    "        f = h5py.File(item.replace(old_replaced, new_replaced), 'w')\n",
    "        f.create_dataset('image', data=image, compression=\"gzip\")\n",
    "        f.close()  \n",
    "    print(\"total number of unseg-samples:\", len(listt))\n",
    "\n",
    "    \n",
    "if __name__ == '__main__':\n",
    "    # 有标签数据\n",
    "    print('seg dataset:')\n",
    "    glob_str = '../../data/CTM_dataset/Segmented/*/CTM.nrrd'\n",
    "    error_samples,stats = get_stats(glob_str,'CTM.nrrd','mri_norm2.h5')\n",
    "    display(stats)\n",
    "    stats.to_csv('../../data/CTM_dataset/Segmented/stats.csv')\n",
    "#     # 无标签数据\n",
    "#     print('unseg dataset:')\n",
    "#     glob_str = '../../data/CTM_dataset/unSegmented/*/CTM.nrrd'\n",
    "#     covert_h5_unseg(glob_str,'CTM.nrrd','mri_norm2.h5')\n",
    "#     glob_str = '../../data/CTM_dataset/unSegmented/*/CT-vol.nrrd'\n",
    "#     covert_h5_unseg(glob_str,'CT-vol.nrrd','mri_norm2.h5')      \n",
    "#     error_samples\n"
   ]
  },
  {
   "cell_type": "code",
   "execution_count": null,
   "metadata": {},
   "outputs": [],
   "source": [
    "np.round(np.array([1.2,3.72,4.6]))"
   ]
  },
  {
   "cell_type": "code",
   "execution_count": null,
   "metadata": {},
   "outputs": [],
   "source": [
    "error_samples"
   ]
  },
  {
   "cell_type": "code",
   "execution_count": 9,
   "metadata": {},
   "outputs": [
    {
     "data": {
      "text/plain": [
       "(-1.0, 0.0, 0.0, 0.0, -1.0, 0.0, 0.0, 0.0, 1.0)"
      ]
     },
     "execution_count": 9,
     "metadata": {},
     "output_type": "execute_result"
    }
   ],
   "source": [
    "import SimpleITK as sitk\n",
    "asd = sitk.ReadImage('../../data/CTM_dataset/Segmented/845929/CTM.nrrd')\n",
    "# dir(asd)\n",
    "asd.GetDirection()\n",
    "# asd.GetOrigin()"
   ]
  },
  {
   "cell_type": "code",
   "execution_count": 17,
   "metadata": {},
   "outputs": [
    {
     "data": {
      "text/plain": [
       "array([[[-2048, -2048, -2048, ..., -2048, -2048, -2048],\n",
       "        [-2048, -2048, -2048, ..., -2048, -2048, -2048],\n",
       "        [-2048, -2048, -2048, ..., -2048, -2048, -2048],\n",
       "        ...,\n",
       "        [-2048, -2048, -2048, ..., -2048, -2048, -2048],\n",
       "        [-2048, -2048, -2048, ..., -2048, -2048, -2048],\n",
       "        [-2048, -2048, -2048, ..., -2048, -2048, -2048]],\n",
       "\n",
       "       [[-2048, -2048, -2048, ..., -2048, -2048, -2048],\n",
       "        [-2048, -2048, -2048, ..., -2048, -2048, -2048],\n",
       "        [-2048, -2048, -2048, ..., -2048, -2048, -2048],\n",
       "        ...,\n",
       "        [-2048, -2048, -2048, ..., -2048, -2048, -2048],\n",
       "        [-2048, -2048, -2048, ..., -2048, -2048, -2048],\n",
       "        [-2048, -2048, -2048, ..., -2048, -2048, -2048]],\n",
       "\n",
       "       [[-2048, -2048, -2048, ..., -2048, -2048, -2048],\n",
       "        [-2048, -2048, -2048, ..., -2048, -2048, -2048],\n",
       "        [-2048, -2048, -2048, ..., -2048, -2048, -2048],\n",
       "        ...,\n",
       "        [-2048, -2048, -2048, ..., -2048, -2048, -2048],\n",
       "        [-2048, -2048, -2048, ..., -2048, -2048, -2048],\n",
       "        [-2048, -2048, -2048, ..., -2048, -2048, -2048]],\n",
       "\n",
       "       ...,\n",
       "\n",
       "       [[-2048, -2048, -2048, ..., -2048, -2048, -2048],\n",
       "        [-2048, -2048, -2048, ..., -2048, -2048, -2048],\n",
       "        [-2048, -2048, -2048, ..., -2048, -2048, -2048],\n",
       "        ...,\n",
       "        [-2048, -2048, -2048, ..., -2048, -2048, -2048],\n",
       "        [-2048, -2048, -2048, ..., -2048, -2048, -2048],\n",
       "        [-2048, -2048, -2048, ..., -2048, -2048, -2048]],\n",
       "\n",
       "       [[-2048, -2048, -2048, ..., -2048, -2048, -2048],\n",
       "        [-2048, -2048, -2048, ..., -2048, -2048, -2048],\n",
       "        [-2048, -2048, -2048, ..., -2048, -2048, -2048],\n",
       "        ...,\n",
       "        [-2048, -2048, -2048, ..., -2048, -2048, -2048],\n",
       "        [-2048, -2048, -2048, ..., -2048, -2048, -2048],\n",
       "        [-2048, -2048, -2048, ..., -2048, -2048, -2048]],\n",
       "\n",
       "       [[-2048, -2048, -2048, ..., -2048, -2048, -2048],\n",
       "        [-2048, -2048, -2048, ..., -2048, -2048, -2048],\n",
       "        [-2048, -2048, -2048, ..., -2048, -2048, -2048],\n",
       "        ...,\n",
       "        [-2048, -2048, -2048, ..., -2048, -2048, -2048],\n",
       "        [-2048, -2048, -2048, ..., -2048, -2048, -2048],\n",
       "        [-2048, -2048, -2048, ..., -2048, -2048, -2048]]], dtype=int16)"
      ]
     },
     "execution_count": 17,
     "metadata": {},
     "output_type": "execute_result"
    }
   ],
   "source": [
    "image=sitk.GetArrayFromImage(asd)#.shape\n",
    "image.shape\n",
    "image"
   ]
  },
  {
   "cell_type": "code",
   "execution_count": 29,
   "metadata": {},
   "outputs": [
    {
     "name": "stdout",
     "output_type": "stream",
     "text": [
      "Help on function rescale in module skimage.transform._warps:\n",
      "\n",
      "rescale(image, scale, order=1, mode='reflect', cval=0, clip=True, preserve_range=False, multichannel=None, anti_aliasing=True, anti_aliasing_sigma=None)\n",
      "    Scale image by a certain factor.\n",
      "    \n",
      "    Performs interpolation to up-scale or down-scale images. Note that anti-\n",
      "    aliasing should be enabled when down-sizing images to avoid aliasing\n",
      "    artifacts. For down-sampling N-dimensional images with an integer factor\n",
      "    also see `skimage.transform.downscale_local_mean`.\n",
      "    \n",
      "    Parameters\n",
      "    ----------\n",
      "    image : ndarray\n",
      "        Input image.\n",
      "    scale : {float, tuple of floats}\n",
      "        Scale factors. Separate scale factors can be defined as\n",
      "        `(rows, cols[, ...][, dim])`.\n",
      "    \n",
      "    Returns\n",
      "    -------\n",
      "    scaled : ndarray\n",
      "        Scaled version of the input.\n",
      "    \n",
      "    Other parameters\n",
      "    ----------------\n",
      "    order : int, optional\n",
      "        The order of the spline interpolation, default is 1. The order has to\n",
      "        be in the range 0-5. See `skimage.transform.warp` for detail.\n",
      "    mode : {'constant', 'edge', 'symmetric', 'reflect', 'wrap'}, optional\n",
      "        Points outside the boundaries of the input are filled according\n",
      "        to the given mode.  Modes match the behaviour of `numpy.pad`.\n",
      "    cval : float, optional\n",
      "        Used in conjunction with mode 'constant', the value outside\n",
      "        the image boundaries.\n",
      "    clip : bool, optional\n",
      "        Whether to clip the output to the range of values of the input image.\n",
      "        This is enabled by default, since higher order interpolation may\n",
      "        produce values outside the given input range.\n",
      "    preserve_range : bool, optional\n",
      "        Whether to keep the original range of values. Otherwise, the input\n",
      "        image is converted according to the conventions of `img_as_float`.\n",
      "        Also see\n",
      "        https://scikit-image.org/docs/dev/user_guide/data_types.html\n",
      "    multichannel : bool, optional\n",
      "        Whether the last axis of the image is to be interpreted as multiple\n",
      "        channels or another spatial dimension. By default, is set to True for\n",
      "        3D (2D+color) inputs, and False for others. Starting in release 0.16,\n",
      "        this will always default to False.\n",
      "    anti_aliasing : bool, optional\n",
      "        Whether to apply a Gaussian filter to smooth the image prior to\n",
      "        down-scaling. It is crucial to filter when down-sampling the image to\n",
      "        avoid aliasing artifacts.\n",
      "    anti_aliasing_sigma : {float, tuple of floats}, optional\n",
      "        Standard deviation for Gaussian filtering to avoid aliasing artifacts.\n",
      "        By default, this value is chosen as (1 - s) / 2 where s is the\n",
      "        down-scaling factor.\n",
      "    \n",
      "    Notes\n",
      "    -----\n",
      "    Modes 'reflect' and 'symmetric' are similar, but differ in whether the edge\n",
      "    pixels are duplicated during the reflection.  As an example, if an array\n",
      "    has values [0, 1, 2] and was padded to the right by four values using\n",
      "    symmetric, the result would be [0, 1, 2, 2, 1, 0, 0], while for reflect it\n",
      "    would be [0, 1, 2, 1, 0, 1, 2].\n",
      "    \n",
      "    Examples\n",
      "    --------\n",
      "    >>> from skimage import data\n",
      "    >>> from skimage.transform import rescale\n",
      "    >>> image = data.camera()\n",
      "    >>> rescale(image, 0.1).shape\n",
      "    (51, 51)\n",
      "    >>> rescale(image, 0.5).shape\n",
      "    (256, 256)\n",
      "\n"
     ]
    }
   ],
   "source": [
    "from skimage import transform\n",
    "import numpy as np\n",
    "image_rescale = transform.rescale(image,0.9,preserve_range=True)\n",
    "np.max(image_rescale)\n",
    "help(transform.rescale)\n",
    "# help(transform.resize)"
   ]
  },
  {
   "cell_type": "code",
   "execution_count": 6,
   "metadata": {},
   "outputs": [
    {
     "data": {
      "text/plain": [
       "['CopyInformation',\n",
       " 'EraseMetaData',\n",
       " 'GetDepth',\n",
       " 'GetDimension',\n",
       " 'GetDirection',\n",
       " 'GetHeight',\n",
       " 'GetITKBase',\n",
       " 'GetMetaData',\n",
       " 'GetMetaDataKeys',\n",
       " 'GetNumberOfComponentsPerPixel',\n",
       " 'GetNumberOfPixels',\n",
       " 'GetOrigin',\n",
       " 'GetPixel',\n",
       " 'GetPixelAsComplexFloat64',\n",
       " 'GetPixelID',\n",
       " 'GetPixelIDTypeAsString',\n",
       " 'GetPixelIDValue',\n",
       " 'GetSize',\n",
       " 'GetSpacing',\n",
       " 'GetWidth',\n",
       " 'HasMetaDataKey',\n",
       " 'IsUnique',\n",
       " 'MakeUnique',\n",
       " 'SetDirection',\n",
       " 'SetMetaData',\n",
       " 'SetOrigin',\n",
       " 'SetPixel',\n",
       " 'SetPixelAsComplexFloat64',\n",
       " 'SetSpacing',\n",
       " 'TransformContinuousIndexToPhysicalPoint',\n",
       " 'TransformIndexToPhysicalPoint',\n",
       " 'TransformPhysicalPointToContinuousIndex',\n",
       " 'TransformPhysicalPointToIndex',\n",
       " '_Image__ipaste',\n",
       " '__GetPixelAsComplexFloat32__',\n",
       " '__GetPixelAsDouble__',\n",
       " '__GetPixelAsFloat__',\n",
       " '__GetPixelAsInt16__',\n",
       " '__GetPixelAsInt32__',\n",
       " '__GetPixelAsInt64__',\n",
       " '__GetPixelAsInt8__',\n",
       " '__GetPixelAsUInt16__',\n",
       " '__GetPixelAsUInt32__',\n",
       " '__GetPixelAsUInt64__',\n",
       " '__GetPixelAsUInt8__',\n",
       " '__GetPixelAsVectorFloat32__',\n",
       " '__GetPixelAsVectorFloat64__',\n",
       " '__GetPixelAsVectorInt16__',\n",
       " '__GetPixelAsVectorInt32__',\n",
       " '__GetPixelAsVectorInt64__',\n",
       " '__GetPixelAsVectorInt8__',\n",
       " '__GetPixelAsVectorUInt16__',\n",
       " '__GetPixelAsVectorUInt32__',\n",
       " '__GetPixelAsVectorUInt64__',\n",
       " '__GetPixelAsVectorUInt8__',\n",
       " '__SetPixelAsComplexFloat32__',\n",
       " '__SetPixelAsDouble__',\n",
       " '__SetPixelAsFloat__',\n",
       " '__SetPixelAsInt16__',\n",
       " '__SetPixelAsInt32__',\n",
       " '__SetPixelAsInt64__',\n",
       " '__SetPixelAsInt8__',\n",
       " '__SetPixelAsUInt16__',\n",
       " '__SetPixelAsUInt32__',\n",
       " '__SetPixelAsUInt64__',\n",
       " '__SetPixelAsUInt8__',\n",
       " '__SetPixelAsVectorFloat32__',\n",
       " '__SetPixelAsVectorFloat64__',\n",
       " '__SetPixelAsVectorInt16__',\n",
       " '__SetPixelAsVectorInt32__',\n",
       " '__SetPixelAsVectorInt64__',\n",
       " '__SetPixelAsVectorInt8__',\n",
       " '__SetPixelAsVectorUInt16__',\n",
       " '__SetPixelAsVectorUInt32__',\n",
       " '__SetPixelAsVectorUInt64__',\n",
       " '__SetPixelAsVectorUInt8__',\n",
       " '__abs__',\n",
       " '__add__',\n",
       " '__and__',\n",
       " '__class__',\n",
       " '__copy__',\n",
       " '__deepcopy__',\n",
       " '__delattr__',\n",
       " '__dict__',\n",
       " '__dir__',\n",
       " '__div__',\n",
       " '__doc__',\n",
       " '__eq__',\n",
       " '__floordiv__',\n",
       " '__format__',\n",
       " '__ge__',\n",
       " '__getattribute__',\n",
       " '__getitem__',\n",
       " '__gt__',\n",
       " '__hash__',\n",
       " '__iadd__',\n",
       " '__iand__',\n",
       " '__ifloordiv__',\n",
       " '__imod__',\n",
       " '__imul__',\n",
       " '__init__',\n",
       " '__init_subclass__',\n",
       " '__invert__',\n",
       " '__ior__',\n",
       " '__ipow__',\n",
       " '__isub__',\n",
       " '__iter__',\n",
       " '__itruediv__',\n",
       " '__ixor__',\n",
       " '__le__',\n",
       " '__len__',\n",
       " '__lt__',\n",
       " '__mod__',\n",
       " '__module__',\n",
       " '__mul__',\n",
       " '__ne__',\n",
       " '__neg__',\n",
       " '__new__',\n",
       " '__or__',\n",
       " '__pos__',\n",
       " '__pow__',\n",
       " '__radd__',\n",
       " '__rand__',\n",
       " '__rdiv__',\n",
       " '__reduce__',\n",
       " '__reduce_ex__',\n",
       " '__repr__',\n",
       " '__rfloordiv__',\n",
       " '__rmul__',\n",
       " '__ror__',\n",
       " '__rpow__',\n",
       " '__rsub__',\n",
       " '__rtruediv__',\n",
       " '__rxor__',\n",
       " '__setattr__',\n",
       " '__setitem__',\n",
       " '__setstate__',\n",
       " '__sizeof__',\n",
       " '__str__',\n",
       " '__sub__',\n",
       " '__subclasshook__',\n",
       " '__swig_destroy__',\n",
       " '__truediv__',\n",
       " '__weakref__',\n",
       " '__xor__',\n",
       " 'this',\n",
       " 'thisown']"
      ]
     },
     "execution_count": 6,
     "metadata": {},
     "output_type": "execute_result"
    }
   ],
   "source": [
    "dir(asd)\n",
    "# asd.GetOrigin()"
   ]
  },
  {
   "cell_type": "code",
   "execution_count": null,
   "metadata": {},
   "outputs": [],
   "source": [
    "# nrrd.read(item.replace(old_replaced, 'Segmentation-label.nrrd'))\n",
    "label = sitk.ReadImage('../../data/CTM_dataset/Segmented/845929/Segmentation-label.nrrd')\n",
    "label.GetSpacing()\n",
    "# dir(label)\n",
    "sitk.GetArrayFromImage(asd).shape"
   ]
  },
  {
   "cell_type": "code",
   "execution_count": null,
   "metadata": {},
   "outputs": [],
   "source": [
    "seg = sitk.ReadImage('../../data/CTM_dataset/Segmented/845929/Segmentation.seg.nrrd')\n",
    "seg.GetSpacing()\n",
    "dir(seg)\n",
    "seg.GetSize()\n",
    "# seg.GetMetaDataKeys()\n",
    "sitk.GetArrayFromImage(seg).shape"
   ]
  },
  {
   "cell_type": "code",
   "execution_count": null,
   "metadata": {},
   "outputs": [],
   "source": [
    "image3D = asd\n",
    "newspacing = [0.3, 0.3, 3.0]\n",
    "resample = sitk.ResampleImageFilter()\n",
    "resample.SetInterpolator(sitk.sitkLinear)\n",
    "resample.SetOutputDirection(image3D.GetDirection())\n",
    "resample.SetOutputOrigin(image3D.GetOrigin())\n",
    "resample.SetOutputSpacing(newspacing)\n",
    "\n",
    "newsize = (np.array(image3D.GetSize())*np.abs(image3D.GetSpacing())/np.array(newspacing)).astype(int).tolist()\n",
    "resample.SetSize(newsize)\n",
    "# resample.SetDefaultPixelValue(0)\n",
    "\n",
    "newimage = resample.Execute(image3D)\n",
    "data1 = sitk.GetArrayFromImage(newimage)\n",
    "newimage.GetMetaDataKeys()#('Segmentation_ReferenceImageExtentOffset')"
   ]
  },
  {
   "cell_type": "code",
   "execution_count": null,
   "metadata": {},
   "outputs": [],
   "source": [
    "sitk.GetArrayFromImage(asd).transpose((2,1,0)).shape"
   ]
  },
  {
   "cell_type": "code",
   "execution_count": null,
   "metadata": {},
   "outputs": [],
   "source": [
    "seg.GetMetaData('Segmentation_ReferenceImageExtentOffset').split()\n"
   ]
  },
  {
   "cell_type": "code",
   "execution_count": null,
   "metadata": {},
   "outputs": [],
   "source": [
    "(np.array(seg.GetSize())*np.array(image3D.GetSpacing())/np.array(newspacing)).astype(int)"
   ]
  },
  {
   "cell_type": "code",
   "execution_count": null,
   "metadata": {},
   "outputs": [],
   "source": [
    "seg.GetSize()"
   ]
  },
  {
   "cell_type": "code",
   "execution_count": null,
   "metadata": {},
   "outputs": [],
   "source": [
    "import numpy as np\n",
    "sitk.GetArrayFromImage(image3D)"
   ]
  },
  {
   "cell_type": "code",
   "execution_count": null,
   "metadata": {},
   "outputs": [],
   "source": [
    "stats['std_SC']/stats['std_whole'].mean()"
   ]
  },
  {
   "cell_type": "code",
   "execution_count": null,
   "metadata": {},
   "outputs": [],
   "source": [
    "newimage.GetSpacing()"
   ]
  }
 ],
 "metadata": {
  "kernelspec": {
   "display_name": "Python 3",
   "language": "python",
   "name": "python3"
  },
  "language_info": {
   "codemirror_mode": {
    "name": "ipython",
    "version": 3
   },
   "file_extension": ".py",
   "mimetype": "text/x-python",
   "name": "python",
   "nbconvert_exporter": "python",
   "pygments_lexer": "ipython3",
   "version": "3.8.5"
  }
 },
 "nbformat": 4,
 "nbformat_minor": 2
}
